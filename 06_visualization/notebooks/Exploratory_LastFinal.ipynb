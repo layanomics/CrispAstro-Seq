{
 "cells": [
  {
   "cell_type": "code",
   "execution_count": null,
   "id": "2dfeb2b1",
   "metadata": {
    "vscode": {
     "languageId": "r"
    }
   },
   "outputs": [],
   "source": [
    "# 📦 Load required libraries\n",
    "library(ggplot2)\n",
    "library(dplyr)\n",
    "library(tidyr)\n",
    "library(readr)\n",
    "\n",
    "library(ggsignif) # for manual/custom significance annotations\n",
    "library(ggpubr) # optional: auto stats + brackets\n",
    "library(DESeq2)\n",
    "library(biomaRt)\n"
   ]
  },
  {
   "cell_type": "code",
   "execution_count": 3,
   "id": "aad97a95",
   "metadata": {
    "vscode": {
     "languageId": "r"
    }
   },
   "outputs": [
    {
     "data": {
      "text/html": [
       "<table class=\"dataframe\">\n",
       "<caption>A matrix: 6 × 6 of type dbl</caption>\n",
       "<thead>\n",
       "\t<tr><th></th><th scope=col>SRR16497780</th><th scope=col>SRR16497781</th><th scope=col>SRR16497782</th><th scope=col>SRR16497783</th><th scope=col>SRR16497784</th><th scope=col>SRR16497785</th></tr>\n",
       "</thead>\n",
       "<tbody>\n",
       "\t<tr><th scope=row>ENSG00000000003</th><td>6.732041</td><td>7.493482</td><td>7.5374610</td><td>7.525570</td><td>6.9312687</td><td>7.649414</td></tr>\n",
       "\t<tr><th scope=row>ENSG00000000419</th><td>8.577470</td><td>8.028663</td><td>8.0476608</td><td>8.092422</td><td>8.0892290</td><td>7.934652</td></tr>\n",
       "\t<tr><th scope=row>ENSG00000000457</th><td>6.390858</td><td>6.417857</td><td>6.6224204</td><td>6.518834</td><td>6.4732112</td><td>6.295328</td></tr>\n",
       "\t<tr><th scope=row>ENSG00000000460</th><td>5.555361</td><td>5.614041</td><td>6.4281263</td><td>5.864583</td><td>6.3104438</td><td>6.257015</td></tr>\n",
       "\t<tr><th scope=row>ENSG00000000938</th><td>2.499513</td><td>2.668011</td><td>1.8579731</td><td>2.095319</td><td>2.1786605</td><td>1.821903</td></tr>\n",
       "\t<tr><th scope=row>ENSG00000000971</th><td>1.270580</td><td>1.239476</td><td>0.9427786</td><td>1.254846</td><td>0.9606411</td><td>1.094606</td></tr>\n",
       "</tbody>\n",
       "</table>\n"
      ],
      "text/latex": [
       "A matrix: 6 × 6 of type dbl\n",
       "\\begin{tabular}{r|llllll}\n",
       "  & SRR16497780 & SRR16497781 & SRR16497782 & SRR16497783 & SRR16497784 & SRR16497785\\\\\n",
       "\\hline\n",
       "\tENSG00000000003 & 6.732041 & 7.493482 & 7.5374610 & 7.525570 & 6.9312687 & 7.649414\\\\\n",
       "\tENSG00000000419 & 8.577470 & 8.028663 & 8.0476608 & 8.092422 & 8.0892290 & 7.934652\\\\\n",
       "\tENSG00000000457 & 6.390858 & 6.417857 & 6.6224204 & 6.518834 & 6.4732112 & 6.295328\\\\\n",
       "\tENSG00000000460 & 5.555361 & 5.614041 & 6.4281263 & 5.864583 & 6.3104438 & 6.257015\\\\\n",
       "\tENSG00000000938 & 2.499513 & 2.668011 & 1.8579731 & 2.095319 & 2.1786605 & 1.821903\\\\\n",
       "\tENSG00000000971 & 1.270580 & 1.239476 & 0.9427786 & 1.254846 & 0.9606411 & 1.094606\\\\\n",
       "\\end{tabular}\n"
      ],
      "text/markdown": [
       "\n",
       "A matrix: 6 × 6 of type dbl\n",
       "\n",
       "| <!--/--> | SRR16497780 | SRR16497781 | SRR16497782 | SRR16497783 | SRR16497784 | SRR16497785 |\n",
       "|---|---|---|---|---|---|---|\n",
       "| ENSG00000000003 | 6.732041 | 7.493482 | 7.5374610 | 7.525570 | 6.9312687 | 7.649414 |\n",
       "| ENSG00000000419 | 8.577470 | 8.028663 | 8.0476608 | 8.092422 | 8.0892290 | 7.934652 |\n",
       "| ENSG00000000457 | 6.390858 | 6.417857 | 6.6224204 | 6.518834 | 6.4732112 | 6.295328 |\n",
       "| ENSG00000000460 | 5.555361 | 5.614041 | 6.4281263 | 5.864583 | 6.3104438 | 6.257015 |\n",
       "| ENSG00000000938 | 2.499513 | 2.668011 | 1.8579731 | 2.095319 | 2.1786605 | 1.821903 |\n",
       "| ENSG00000000971 | 1.270580 | 1.239476 | 0.9427786 | 1.254846 | 0.9606411 | 1.094606 |\n",
       "\n"
      ],
      "text/plain": [
       "                SRR16497780 SRR16497781 SRR16497782 SRR16497783 SRR16497784\n",
       "ENSG00000000003 6.732041    7.493482    7.5374610   7.525570    6.9312687  \n",
       "ENSG00000000419 8.577470    8.028663    8.0476608   8.092422    8.0892290  \n",
       "ENSG00000000457 6.390858    6.417857    6.6224204   6.518834    6.4732112  \n",
       "ENSG00000000460 5.555361    5.614041    6.4281263   5.864583    6.3104438  \n",
       "ENSG00000000938 2.499513    2.668011    1.8579731   2.095319    2.1786605  \n",
       "ENSG00000000971 1.270580    1.239476    0.9427786   1.254846    0.9606411  \n",
       "                SRR16497785\n",
       "ENSG00000000003 7.649414   \n",
       "ENSG00000000419 7.934652   \n",
       "ENSG00000000457 6.295328   \n",
       "ENSG00000000460 6.257015   \n",
       "ENSG00000000938 1.821903   \n",
       "ENSG00000000971 1.094606   "
      ]
     },
     "metadata": {},
     "output_type": "display_data"
    }
   ],
   "source": [
    "# 📂 Load DESeq2 object and extract expression matrix\n",
    "# Load your full DESeq2 object\n",
    "dds <- readRDS(\"/home/layanomics/CrispAstro-Seq/04_differential_expression/results/dds.rds\")\n",
    "\n",
    "# Apply rlog transformation for plotting\n",
    "rld <- rlog(dds) # if this takes too long, we can use vst() instead\n",
    "\n",
    "# Extract expression matrix\n",
    "rlog_mat <- assay(rld)\n",
    "\n",
    "# Preview\n",
    "head(rlog_mat)\n"
   ]
  },
  {
   "cell_type": "code",
   "execution_count": 4,
   "id": "db240301",
   "metadata": {
    "vscode": {
     "languageId": "r"
    }
   },
   "outputs": [
    {
     "name": "stdout",
     "output_type": "stream",
     "text": [
      "  ensembl_gene_id hgnc_symbol\n",
      "1 ENSG00000125730          C3\n",
      "2 ENSG00000131095        GFAP\n",
      "3 ENSG00000132688         NES\n"
     ]
    }
   ],
   "source": [
    "# 🔎 Get Ensembl IDs for genes of interest (GFAP, C3, NES)\n",
    "\n",
    "# Connect to Ensembl (GRCh38)\n",
    "ensembl <- useEnsembl(biomart = \"genes\", dataset = \"hsapiens_gene_ensembl\", version = 105) # GENCODE v38 = Ensembl 105\n",
    "\n",
    "# List of gene symbols you want\n",
    "genes <- c(\"GFAP\", \"C3\", \"NES\")\n",
    "\n",
    "# Get mapping\n",
    "gene_map <- getBM(\n",
    "    attributes = c(\"ensembl_gene_id\", \"hgnc_symbol\"),\n",
    "    filters = \"hgnc_symbol\",\n",
    "    values = genes,\n",
    "    mart = ensembl\n",
    ")\n",
    "\n",
    "print(gene_map)\n"
   ]
  },
  {
   "cell_type": "code",
   "execution_count": 5,
   "id": "7ad0f051",
   "metadata": {
    "vscode": {
     "languageId": "r"
    }
   },
   "outputs": [
    {
     "data": {
      "text/html": [
       "<table class=\"dataframe\">\n",
       "<caption>A data.frame: 6 × 4</caption>\n",
       "<thead>\n",
       "\t<tr><th></th><th scope=col>sample_id</th><th scope=col>expression</th><th scope=col>genotype</th><th scope=col>gene</th></tr>\n",
       "\t<tr><th></th><th scope=col>&lt;chr&gt;</th><th scope=col>&lt;dbl&gt;</th><th scope=col>&lt;fct&gt;</th><th scope=col>&lt;chr&gt;</th></tr>\n",
       "</thead>\n",
       "<tbody>\n",
       "\t<tr><th scope=row>1</th><td>SRR16497780</td><td>6.904729</td><td>WT   </td><td>C3</td></tr>\n",
       "\t<tr><th scope=row>2</th><td>SRR16497781</td><td>7.157741</td><td>R270X</td><td>C3</td></tr>\n",
       "\t<tr><th scope=row>3</th><td>SRR16497782</td><td>7.736175</td><td>WT   </td><td>C3</td></tr>\n",
       "\t<tr><th scope=row>4</th><td>SRR16497783</td><td>7.735525</td><td>R270X</td><td>C3</td></tr>\n",
       "\t<tr><th scope=row>5</th><td>SRR16497784</td><td>6.555582</td><td>WT   </td><td>C3</td></tr>\n",
       "\t<tr><th scope=row>6</th><td>SRR16497785</td><td>7.858381</td><td>R270X</td><td>C3</td></tr>\n",
       "</tbody>\n",
       "</table>\n"
      ],
      "text/latex": [
       "A data.frame: 6 × 4\n",
       "\\begin{tabular}{r|llll}\n",
       "  & sample\\_id & expression & genotype & gene\\\\\n",
       "  & <chr> & <dbl> & <fct> & <chr>\\\\\n",
       "\\hline\n",
       "\t1 & SRR16497780 & 6.904729 & WT    & C3\\\\\n",
       "\t2 & SRR16497781 & 7.157741 & R270X & C3\\\\\n",
       "\t3 & SRR16497782 & 7.736175 & WT    & C3\\\\\n",
       "\t4 & SRR16497783 & 7.735525 & R270X & C3\\\\\n",
       "\t5 & SRR16497784 & 6.555582 & WT    & C3\\\\\n",
       "\t6 & SRR16497785 & 7.858381 & R270X & C3\\\\\n",
       "\\end{tabular}\n"
      ],
      "text/markdown": [
       "\n",
       "A data.frame: 6 × 4\n",
       "\n",
       "| <!--/--> | sample_id &lt;chr&gt; | expression &lt;dbl&gt; | genotype &lt;fct&gt; | gene &lt;chr&gt; |\n",
       "|---|---|---|---|---|\n",
       "| 1 | SRR16497780 | 6.904729 | WT    | C3 |\n",
       "| 2 | SRR16497781 | 7.157741 | R270X | C3 |\n",
       "| 3 | SRR16497782 | 7.736175 | WT    | C3 |\n",
       "| 4 | SRR16497783 | 7.735525 | R270X | C3 |\n",
       "| 5 | SRR16497784 | 6.555582 | WT    | C3 |\n",
       "| 6 | SRR16497785 | 7.858381 | R270X | C3 |\n",
       "\n"
      ],
      "text/plain": [
       "  sample_id   expression genotype gene\n",
       "1 SRR16497780 6.904729   WT       C3  \n",
       "2 SRR16497781 7.157741   R270X    C3  \n",
       "3 SRR16497782 7.736175   WT       C3  \n",
       "4 SRR16497783 7.735525   R270X    C3  \n",
       "5 SRR16497784 6.555582   WT       C3  \n",
       "6 SRR16497785 7.858381   R270X    C3  "
      ]
     },
     "metadata": {},
     "output_type": "display_data"
    }
   ],
   "source": [
    "# 🧬 Create tidy data frame for each gene\n",
    "\n",
    "make_plot_df <- function(gene_id, gene_label, dds, rlog_mat) {\n",
    "    data.frame(\n",
    "        sample_id = colnames(rlog_mat),\n",
    "        expression = as.numeric(rlog_mat[gene_id, , drop = TRUE]),\n",
    "        genotype = colData(dds)$condition,\n",
    "        gene = gene_label\n",
    "    )\n",
    "}\n",
    "\n",
    "# Generate data frames for each gene\n",
    "plot_dfs <- gene_map %>%\n",
    "    rowwise() %>%\n",
    "    mutate(data = list(make_plot_df(ensembl_gene_id, hgnc_symbol, dds, rlog_mat))) %>%\n",
    "    pull(data)\n",
    "\n",
    "# Combine into one tidy frame\n",
    "expression_df <- bind_rows(plot_dfs)\n",
    "\n",
    "# Preview\n",
    "head(expression_df)\n"
   ]
  },
  {
   "cell_type": "code",
   "execution_count": 6,
   "id": "cdb92284",
   "metadata": {
    "vscode": {
     "languageId": "r"
    }
   },
   "outputs": [],
   "source": [
    "# Define gene ID for Nestin\n",
    "nes_ensg_id <- \"ENSG00000132688\"\n",
    "\n",
    "if (!(nes_ensg_id %in% rownames(dds))) {\n",
    "    stop(\"Gene not found.\")\n",
    "}\n",
    "\n",
    "\n",
    "nes_counts <- as.numeric(counts(dds, normalized = TRUE)[nes_ensg_id, ])\n",
    "sample_data <- as.data.frame(colData(dds))\n",
    "\n",
    "# Combine into data frame\n",
    "plot_data <- data.frame(\n",
    "    condition = sample_data$condition,\n",
    "    expression = nes_counts\n",
    ")\n",
    "\n",
    "\n",
    "# Normalize to WT mean\n",
    "wt_mean <- mean(plot_data$expression[plot_data$condition == \"WT\"])\n",
    "plot_data$relative_expression <- plot_data$expression / wt_mean\n",
    "\n",
    "# Compute group means and SEMs\n",
    "summary_data <- plot_data %>%\n",
    "    group_by(condition) %>%\n",
    "    summarise(\n",
    "        mean_expression = mean(relative_expression),\n",
    "        se_expression = sd(relative_expression) / sqrt(n())\n",
    "    ) %>%\n",
    "    mutate(\n",
    "        x_numeric = as.numeric(factor(condition)),\n",
    "        y_top = mean_expression + se_expression\n",
    "    )\n",
    "\n",
    "\n",
    "\n",
    "# Run t-test\n",
    "t_test_result <- t.test(relative_expression ~ condition, data = plot_data)\n",
    "p_value <- t_test_result$p.value\n",
    "significance_label <- ifelse(p_value < 0.001, \"***\",\n",
    "    ifelse(p_value < 0.05, \"*\", \"ns\")\n",
    ")\n"
   ]
  },
  {
   "cell_type": "code",
   "execution_count": 7,
   "id": "a1d15ce1",
   "metadata": {
    "vscode": {
     "languageId": "r"
    }
   },
   "outputs": [
    {
     "data": {
      "text/html": [
       "<table class=\"dataframe\">\n",
       "<caption>A data.frame: 6 × 3</caption>\n",
       "<thead>\n",
       "\t<tr><th scope=col>condition</th><th scope=col>expression</th><th scope=col>relative_expression</th></tr>\n",
       "\t<tr><th scope=col>&lt;fct&gt;</th><th scope=col>&lt;dbl&gt;</th><th scope=col>&lt;dbl&gt;</th></tr>\n",
       "</thead>\n",
       "<tbody>\n",
       "\t<tr><td>WT   </td><td>25509.170</td><td>1.2628282</td></tr>\n",
       "\t<tr><td>R270X</td><td> 4656.406</td><td>0.2305148</td></tr>\n",
       "\t<tr><td>WT   </td><td>12071.181</td><td>0.5975823</td></tr>\n",
       "\t<tr><td>R270X</td><td>16375.737</td><td>0.8106788</td></tr>\n",
       "\t<tr><td>WT   </td><td>23019.743</td><td>1.1395895</td></tr>\n",
       "\t<tr><td>R270X</td><td>10592.192</td><td>0.5243651</td></tr>\n",
       "</tbody>\n",
       "</table>\n"
      ],
      "text/latex": [
       "A data.frame: 6 × 3\n",
       "\\begin{tabular}{lll}\n",
       " condition & expression & relative\\_expression\\\\\n",
       " <fct> & <dbl> & <dbl>\\\\\n",
       "\\hline\n",
       "\t WT    & 25509.170 & 1.2628282\\\\\n",
       "\t R270X &  4656.406 & 0.2305148\\\\\n",
       "\t WT    & 12071.181 & 0.5975823\\\\\n",
       "\t R270X & 16375.737 & 0.8106788\\\\\n",
       "\t WT    & 23019.743 & 1.1395895\\\\\n",
       "\t R270X & 10592.192 & 0.5243651\\\\\n",
       "\\end{tabular}\n"
      ],
      "text/markdown": [
       "\n",
       "A data.frame: 6 × 3\n",
       "\n",
       "| condition &lt;fct&gt; | expression &lt;dbl&gt; | relative_expression &lt;dbl&gt; |\n",
       "|---|---|---|\n",
       "| WT    | 25509.170 | 1.2628282 |\n",
       "| R270X |  4656.406 | 0.2305148 |\n",
       "| WT    | 12071.181 | 0.5975823 |\n",
       "| R270X | 16375.737 | 0.8106788 |\n",
       "| WT    | 23019.743 | 1.1395895 |\n",
       "| R270X | 10592.192 | 0.5243651 |\n",
       "\n"
      ],
      "text/plain": [
       "  condition expression relative_expression\n",
       "1 WT        25509.170  1.2628282          \n",
       "2 R270X      4656.406  0.2305148          \n",
       "3 WT        12071.181  0.5975823          \n",
       "4 R270X     16375.737  0.8106788          \n",
       "5 WT        23019.743  1.1395895          \n",
       "6 R270X     10592.192  0.5243651          "
      ]
     },
     "metadata": {},
     "output_type": "display_data"
    }
   ],
   "source": [
    "plot_data\n"
   ]
  },
  {
   "cell_type": "code",
   "execution_count": 8,
   "id": "7275f52f",
   "metadata": {
    "vscode": {
     "languageId": "r"
    }
   },
   "outputs": [
    {
     "name": "stderr",
     "output_type": "stream",
     "text": [
      "\n",
      "Attaching package: ‘rlang’\n",
      "\n",
      "\n",
      "The following object is masked from ‘package:Biobase’:\n",
      "\n",
      "    exprs\n",
      "\n",
      "\n"
     ]
    }
   ],
   "source": [
    "library(rlang)\n",
    "\n",
    "geom_top_errorbar <- function(data,\n",
    "                              x = \"x_numeric\",\n",
    "                              y = \"mean_expression\",\n",
    "                              yend = \"y_top\",\n",
    "                              whisker_width = 0.4,\n",
    "                              linewidth = 0.6,\n",
    "                              color = \"black\") {\n",
    "    x_sym <- sym(x)\n",
    "    y_sym <- sym(y)\n",
    "    yend_sym <- sym(yend)\n",
    "\n",
    "    list(\n",
    "        # Vertical line\n",
    "        geom_segment(\n",
    "            data = data,\n",
    "            mapping = aes(x = !!x_sym, xend = !!x_sym, y = !!y_sym, yend = !!yend_sym),\n",
    "            linewidth = linewidth,\n",
    "            color = color,\n",
    "            inherit.aes = FALSE\n",
    "        ),\n",
    "        # Top whisker\n",
    "        geom_segment(\n",
    "            data = data,\n",
    "            mapping = aes(\n",
    "                x = !!x_sym - whisker_width / 2,\n",
    "                xend = !!x_sym + whisker_width / 2,\n",
    "                y = !!yend_sym, yend = !!yend_sym\n",
    "            ),\n",
    "            linewidth = linewidth,\n",
    "            color = color,\n",
    "            inherit.aes = FALSE\n",
    "        )\n",
    "    )\n",
    "}\n"
   ]
  },
  {
   "cell_type": "code",
   "execution_count": 9,
   "id": "7ef85e5a",
   "metadata": {
    "vscode": {
     "languageId": "r"
    }
   },
   "outputs": [
    {
     "data": {
      "image/png": "[encoded data removed]",
      "text/plain": [
       "plot without title"
      ]
     },
     "metadata": {
      "image/png": {
       "height": 420,
       "width": 420
      }
     },
     "output_type": "display_data"
    }
   ],
   "source": [
    "y_sig <- 1.5 # move this OUTSIDE the ggplot\n",
    "\n",
    "p_nes <- ggplot(plot_data, aes(x = condition, y = relative_expression)) +\n",
    "    geom_bar(\n",
    "        data = summary_data,\n",
    "        aes(x = condition, y = mean_expression, fill = condition),\n",
    "        stat = \"identity\",\n",
    "        width = 0.8,\n",
    "        color = \"grey45\",\n",
    "        linewidth = 0.5,\n",
    "    ) +\n",
    "    geom_top_errorbar(summary_data) +\n",
    "    geom_point(\n",
    "        color = \"grey30\", # fixed black outline\n",
    "        fill = \"darkgrey\", # fixed grey fill\n",
    "        shape = 21, size = 4.0, stroke = 0.9\n",
    "    ) +\n",
    "    scale_fill_manual(values = c(\"WT\" = \"black\", \"R270X\" = \"lightgray\")) +\n",
    "\n",
    "    # significance label and lines (inside the ggplot chain)\n",
    "    annotate(\"text\", x = 1.5, y = y_sig + 0.08, label = significance_label, size = 9) +\n",
    "    annotate(\"segment\", x = 1, xend = 2, y = y_sig, yend = y_sig, color = \"grey30\", linewidth = 0.6) +\n",
    "    annotate(\"segment\", x = 1, xend = 1, y = y_sig, yend = y_sig - 0.09, color = \"grey30\", linewidth = 0.6) +\n",
    "    annotate(\"segment\", x = 2, xend = 2, y = y_sig, yend = y_sig - 0.15, color = \"grey30\", linewidth = 0.6) +\n",
    "    labs(x = expression(italic(\"Nes\")), y = \"Relative expression\") +\n",
    "    scale_y_continuous(limits = c(0, 2.0), breaks = seq(0, 2, 0.5), expand = c(0, 0)) +\n",
    "    theme_minimal(base_size = 14) +\n",
    "    theme(\n",
    "        axis.line = element_line(color = \"black\", linewidth = 0.4),\n",
    "        panel.grid = element_blank(),\n",
    "        panel.background = element_rect(fill = \"white\", color = NA),\n",
    "        plot.background = element_rect(fill = \"white\", color = NA),\n",
    "        axis.ticks.x = element_blank(),\n",
    "        axis.ticks.y = element_line(color = \"black\", linewidth = 0.4),\n",
    "        axis.ticks.length.y = unit(0.15, \"cm\"),\n",
    "        axis.text.x = element_blank(),\n",
    "        axis.text.y = element_text(size = 13, color = \"black\"),\n",
    "        axis.title.x = element_text(face = \"italic\", size = 16, color = \"black\", margin = margin(t = 5)),\n",
    "        axis.title.y = element_text(size = 16, margin = margin(r = 10), color = \"black\"),\n",
    "        legend.position = \"inside\",\n",
    "        legend.position.inside = c(1.3, 0.9),\n",
    "        legend.title = element_blank(),\n",
    "        legend.text = element_text(size = 13, color = \"black\"),\n",
    "        legend.background = element_rect(fill = \"white\", color = NA),\n",
    "        legend.key = element_rect(fill = \"white\", color = NA),\n",
    "        legend.box = \"vertical\",\n",
    "        legend.box.spacing = unit(0.2, \"cm\"),\n",
    "        legend.key.spacing.y = unit(0.3, \"cm\"),\n",
    "        legend.margin = margin(t = 5, b = 5),\n",
    "        plot.margin = unit(c(0.5, 0.5, 0.5, 0.5), \"cm\"),\n",
    "        aspect.ratio = 4 / 1\n",
    "    ) +\n",
    "    guides(\n",
    "        fill = guide_legend(\n",
    "            override.aes = list(\n",
    "                shape = 22,\n",
    "                size = 5,\n",
    "                color = \"grey30\"\n",
    "            ),\n",
    "            keywidth = unit(1.1, \"cm\"),\n",
    "            keyheight = unit(0.4, \"cm\"),\n",
    "            byrow = TRUE # Ensures items are arranged in rows, helpful for spacing\n",
    "        )\n",
    "    )\n",
    "\n",
    "# Show the plot\n",
    "print(p_nes)\n"
   ]
  },
  {
   "cell_type": "code",
   "execution_count": 10,
   "id": "e38567ce",
   "metadata": {
    "vscode": {
     "languageId": "r"
    }
   },
   "outputs": [
    {
     "data": {
      "image/png": "[encoded data removed]",
      "text/plain": [
       "plot without title"
      ]
     },
     "metadata": {
      "image/png": {
       "height": 420,
       "width": 420
      }
     },
     "output_type": "display_data"
    }
   ],
   "source": [
    "y_sig <- 1.5 # move this OUTSIDE the ggplot\n",
    "\n",
    "p <- ggplot(plot_data, aes(x = condition, y = relative_expression)) +\n",
    "    geom_bar(\n",
    "        data = summary_data,\n",
    "        aes(x = condition, y = mean_expression, fill = condition),\n",
    "        stat = \"identity\",\n",
    "        width = 0.3,\n",
    "        color = \"grey45\",\n",
    "        linewidth = 0.5,\n",
    "    ) +\n",
    "    geom_top_errorbar(summary_data) +\n",
    "    geom_point(\n",
    "        color = \"grey30\", # fixed black outline\n",
    "        fill = \"darkgrey\", # fixed grey fill\n",
    "        shape = 21, size = 4.0, stroke = 0.9\n",
    "    ) +\n",
    "    scale_fill_manual(values = c(\"WT\" = \"black\", \"R270X\" = \"lightgray\")) +\n",
    "\n",
    "    # significance label and lines (inside the ggplot chain)\n",
    "    annotate(\"text\", x = 1.5, y = y_sig + 0.08, label = significance_label, size = 9) +\n",
    "    annotate(\"segment\", x = 1, xend = 2, y = y_sig, yend = y_sig, color = \"grey30\", linewidth = 0.6) +\n",
    "    annotate(\"segment\", x = 1, xend = 1, y = y_sig, yend = y_sig - 0.09, color = \"grey30\", linewidth = 0.6) +\n",
    "    annotate(\"segment\", x = 2, xend = 2, y = y_sig, yend = y_sig - 0.15, color = \"grey30\", linewidth = 0.6) +\n",
    "    labs(x = expression(italic(\"Nes\")), y = \"Relative expression\") +\n",
    "    scale_y_continuous(limits = c(0, 2.0), breaks = seq(0, 2, 0.5), expand = c(0, 0)) +\n",
    "    theme_minimal(base_size = 14) +\n",
    "    theme(\n",
    "        axis.line = element_line(color = \"black\", linewidth = 0.4),\n",
    "        panel.grid = element_blank(),\n",
    "        panel.background = element_rect(fill = \"white\", color = NA),\n",
    "        plot.background = element_rect(fill = \"white\", color = NA),\n",
    "        axis.ticks.x = element_blank(),\n",
    "        axis.ticks.y = element_line(color = \"black\", linewidth = 0.4),\n",
    "        axis.ticks.length.y = unit(0.15, \"cm\"),\n",
    "        axis.text.x = element_blank(),\n",
    "        axis.text.y = element_text(size = 20, color = \"black\"),\n",
    "        axis.title.x = element_text(face = \"italic\", size = 27, color = \"black\", margin = margin(t = 5)),\n",
    "        axis.title.y = element_text(size = 27, margin = margin(r = 10), color = \"black\"),\n",
    "        legend.position = \"inside\",\n",
    "        legend.position.inside = c(1.3, 0.9),\n",
    "        legend.title = element_blank(),\n",
    "        legend.text = element_text(size = 13, color = \"black\"),\n",
    "        legend.background = element_rect(fill = \"white\", color = NA),\n",
    "        legend.key = element_rect(fill = \"white\", color = NA),\n",
    "        legend.box = \"vertical\",\n",
    "        legend.box.spacing = unit(0.2, \"cm\"),\n",
    "        legend.key.spacing.y = unit(0.3, \"cm\"),\n",
    "        legend.margin = margin(t = 5, b = 5),\n",
    "        # plot.margin = unit(c(0.5, 0.5, 0.1, 0.5), \"cm\"),\n",
    "        aspect.ratio = 0.5\n",
    "    ) +\n",
    "    guides(\n",
    "        fill = guide_legend(\n",
    "            override.aes = list(\n",
    "                shape = 22,\n",
    "                size = 5,\n",
    "                color = \"grey30\"\n",
    "            ),\n",
    "            keywidth = unit(1.1, \"cm\"),\n",
    "            keyheight = unit(0.4, \"cm\"),\n",
    "            byrow = TRUE # Ensures items are arranged in rows, helpful for spacing\n",
    "        )\n",
    "    )\n",
    "\n",
    "# Show the plot\n",
    "print(p)\n"
   ]
  },
  {
   "cell_type": "code",
   "execution_count": 11,
   "id": "8d745747",
   "metadata": {
    "vscode": {
     "languageId": "r"
    }
   },
   "outputs": [
    {
     "data": {
      "image/png": "[encoded data removed]",
      "text/plain": [
       "plot without title"
      ]
     },
     "metadata": {
      "image/png": {
       "height": 420,
       "width": 420
      }
     },
     "output_type": "display_data"
    }
   ],
   "source": [
    "# Define gene ID for C3\n",
    "c3_ensg_id <- \"ENSG00000125730\"\n",
    "\n",
    "if (!(c3_ensg_id %in% rownames(dds))) {\n",
    "    stop(\"C3 gene not found.\")\n",
    "}\n",
    "\n",
    "# Extract normalized counts\n",
    "c3_counts <- as.numeric(counts(dds, normalized = TRUE)[c3_ensg_id, ])\n",
    "sample_data <- as.data.frame(colData(dds))\n",
    "\n",
    "# Combine into plot_data\n",
    "plot_data <- data.frame(\n",
    "    condition = sample_data$condition,\n",
    "    expression = c3_counts\n",
    ")\n",
    "\n",
    "# Normalize to WT\n",
    "wt_mean <- mean(plot_data$expression[plot_data$condition == \"WT\"])\n",
    "plot_data$relative_expression <- plot_data$expression / wt_mean\n",
    "\n",
    "# Summary stats\n",
    "summary_data <- plot_data %>%\n",
    "    group_by(condition) %>%\n",
    "    summarise(\n",
    "        mean_expression = mean(relative_expression),\n",
    "        se_expression = sd(relative_expression) / sqrt(n())\n",
    "    ) %>%\n",
    "    mutate(\n",
    "        x_numeric = as.numeric(factor(condition)),\n",
    "        y_top = mean_expression + se_expression\n",
    "    )\n",
    "\n",
    "# T-test\n",
    "t_test_result <- t.test(relative_expression ~ condition, data = plot_data)\n",
    "p_value <- t_test_result$p.value\n",
    "significance_label <- ifelse(p_value < 0.001, \"***\",\n",
    "    ifelse(p_value < 0.05, \"*\", \"ns\")\n",
    ")\n",
    "\n",
    "# Significance line position\n",
    "y_sig <- max(summary_data$y_top) + 0.15\n",
    "\n",
    "# Plot\n",
    "p_c3 <- ggplot(plot_data, aes(x = condition, y = relative_expression)) +\n",
    "    geom_bar(\n",
    "        data = summary_data,\n",
    "        aes(y = mean_expression, fill = condition),\n",
    "        stat = \"identity\",\n",
    "        width = 0.8,\n",
    "        color = \"grey45\",\n",
    "        linewidth = 0.5\n",
    "    ) +\n",
    "    geom_top_errorbar(summary_data) +\n",
    "    geom_point(\n",
    "        color = \"grey30\",\n",
    "        fill = \"darkgrey\",\n",
    "        shape = 21, size = 4.0, stroke = 0.9\n",
    "    ) +\n",
    "    scale_fill_manual(values = c(\"WT\" = \"black\", \"R270X\" = \"lightgray\")) +\n",
    "    annotate(\"text\", x = 1.5, y = y_sig + 0.06, label = significance_label, size = 9) +\n",
    "    annotate(\"segment\", x = 1, xend = 2, y = y_sig, yend = y_sig, color = \"grey30\", linewidth = 0.6) +\n",
    "    annotate(\"segment\", x = 1, xend = 1, y = y_sig, yend = y_sig - 0.1, color = \"grey30\", linewidth = 0.6) +\n",
    "    annotate(\"segment\", x = 2, xend = 2, y = y_sig, yend = y_sig - 0.01, color = \"grey30\", linewidth = 0.6) +\n",
    "    labs(x = expression(italic(\"C3\")), y = \"Relative expression\") +\n",
    "    scale_y_continuous(limits = c(0, 2.2), breaks = seq(0, 2.2, 0.5), expand = c(0, 0)) +\n",
    "    theme_minimal(base_size = 14) +\n",
    "    theme(\n",
    "        axis.line = element_line(color = \"black\", linewidth = 0.4),\n",
    "        panel.grid = element_blank(),\n",
    "        panel.background = element_rect(fill = \"white\", color = NA),\n",
    "        plot.background = element_rect(fill = \"white\", color = NA),\n",
    "        axis.ticks.x = element_blank(),\n",
    "        axis.ticks.y = element_line(color = \"black\", linewidth = 0.4),\n",
    "        axis.ticks.length.y = unit(0.15, \"cm\"),\n",
    "        axis.text.x = element_blank(),\n",
    "        axis.text.y = element_text(size = 13, color = \"black\"),\n",
    "        axis.title.x = element_text(face = \"italic\", size = 16, color = \"black\", margin = margin(t = 5)),\n",
    "        axis.title.y = element_text(size = 16, margin = margin(r = 10), color = \"black\"),\n",
    "        legend.position = \"inside\",\n",
    "        legend.position.inside = c(1.3, 0.9),\n",
    "        legend.title = element_blank(),\n",
    "        legend.text = element_text(size = 13, color = \"black\"),\n",
    "        legend.background = element_rect(fill = \"white\", color = NA),\n",
    "        legend.key = element_rect(fill = \"white\", color = NA),\n",
    "        legend.box = \"vertical\",\n",
    "        legend.box.spacing = unit(0.2, \"cm\"),\n",
    "        legend.key.spacing.y = unit(0.3, \"cm\"),\n",
    "        legend.margin = margin(t = 5, b = 5),\n",
    "        plot.margin = unit(c(0.5, 0.5, 0.5, 0.5), \"cm\"),\n",
    "        aspect.ratio = 4 / 1\n",
    "    ) +\n",
    "    guides(\n",
    "        fill = guide_legend(\n",
    "            override.aes = list(shape = 22, size = 5, color = \"grey30\"),\n",
    "            keywidth = unit(1.1, \"cm\"),\n",
    "            keyheight = unit(0.4, \"cm\"),\n",
    "            byrow = TRUE\n",
    "        )\n",
    "    )\n",
    "\n",
    "print(p_c3)\n"
   ]
  },
  {
   "cell_type": "code",
   "execution_count": 12,
   "id": "1b345486",
   "metadata": {
    "vscode": {
     "languageId": "r"
    }
   },
   "outputs": [
    {
     "data": {
      "image/png": "[encoded data removed]",
      "text/plain": [
       "plot without title"
      ]
     },
     "metadata": {
      "image/png": {
       "height": 420,
       "width": 420
      }
     },
     "output_type": "display_data"
    }
   ],
   "source": [
    "# Set y-axis annotation level\n",
    "y_sig <- 2.5 # just above R270X top\n",
    "\n",
    "p_gfap <- ggplot(plot_data, aes(x = condition, y = relative_expression)) +\n",
    "    geom_bar(\n",
    "        data = summary_data,\n",
    "        aes(x = condition, y = mean_expression, fill = condition),\n",
    "        stat = \"identity\",\n",
    "        width = 0.8,\n",
    "        color = \"grey45\",\n",
    "        linewidth = 0.5\n",
    "    ) +\n",
    "    geom_top_errorbar(summary_data) +\n",
    "    geom_point(\n",
    "        color = \"grey30\",\n",
    "        fill = \"darkgrey\",\n",
    "        shape = 21, size = 4.0, stroke = 0.9\n",
    "    ) +\n",
    "    scale_fill_manual(values = c(\"WT\" = \"black\", \"R270X\" = \"lightgray\")) +\n",
    "\n",
    "    # Significance annotation for GFAP\n",
    "    annotate(\"text\", x = 1.5, y = y_sig + 0.08, label = significance_label, size = 9) +\n",
    "    annotate(\"segment\", x = 1, xend = 2, y = y_sig, yend = y_sig, color = \"grey30\", linewidth = 0.6) +\n",
    "    annotate(\"segment\", x = 1, xend = 1, y = y_sig, yend = y_sig - 0.15, color = \"grey30\", linewidth = 0.6) +\n",
    "    annotate(\"segment\", x = 2, xend = 2, y = y_sig, yend = y_sig - 0.09, color = \"grey30\", linewidth = 0.6) +\n",
    "    labs(x = expression(italic(\"Gfap\")), y = \"Relative expression\") +\n",
    "    scale_y_continuous(limits = c(0, 2.8), breaks = seq(0, 2.5, 0.5), expand = c(0, 0)) +\n",
    "    theme_minimal(base_size = 14) +\n",
    "    theme(\n",
    "        axis.line = element_line(color = \"black\", linewidth = 0.4),\n",
    "        panel.grid = element_blank(),\n",
    "        panel.background = element_rect(fill = \"white\", color = NA),\n",
    "        plot.background = element_rect(fill = \"white\", color = NA),\n",
    "        axis.ticks.x = element_blank(),\n",
    "        axis.ticks.y = element_line(color = \"black\", linewidth = 0.4),\n",
    "        axis.ticks.length.y = unit(0.15, \"cm\"),\n",
    "        axis.text.x = element_blank(),\n",
    "        axis.text.y = element_text(size = 13, color = \"black\"),\n",
    "        axis.title.x = element_text(face = \"italic\", size = 16, color = \"black\", margin = margin(t = 5)),\n",
    "        axis.title.y = element_text(size = 16, margin = margin(r = 10), color = \"black\"),\n",
    "        legend.position = \"inside\",\n",
    "        legend.position.inside = c(1.3, 0.9),\n",
    "        legend.title = element_blank(),\n",
    "        legend.text = element_text(size = 13, color = \"black\"),\n",
    "        legend.background = element_rect(fill = \"white\", color = NA),\n",
    "        legend.key = element_rect(fill = \"white\", color = NA),\n",
    "        legend.box = \"vertical\",\n",
    "        legend.box.spacing = unit(0.2, \"cm\"),\n",
    "        legend.key.spacing.y = unit(0.3, \"cm\"),\n",
    "        legend.margin = margin(t = 5, b = 5),\n",
    "        plot.margin = unit(c(0.5, 0.5, 0.5, 0.5), \"cm\"),\n",
    "        aspect.ratio = 4 / 1\n",
    "    ) +\n",
    "    guides(\n",
    "        fill = guide_legend(\n",
    "            override.aes = list(\n",
    "                shape = 22,\n",
    "                size = 5,\n",
    "                color = \"grey30\"\n",
    "            ),\n",
    "            keywidth = unit(1.1, \"cm\"),\n",
    "            keyheight = unit(0.4, \"cm\"),\n",
    "            byrow = TRUE\n",
    "        )\n",
    "    )\n",
    "\n",
    "print(p_gfap)\n"
   ]
  },
  {
   "cell_type": "code",
   "execution_count": 15,
   "id": "2e293c56",
   "metadata": {
    "vscode": {
     "languageId": "r"
    }
   },
   "outputs": [
    {
     "data": {
      "image/png": "[encoded data removed]",
      "text/plain": [
       "plot without title"
      ]
     },
     "metadata": {
      "image/png": {
       "height": 420,
       "width": 420
      }
     },
     "output_type": "display_data"
    }
   ],
   "source": [
    "library(patchwork)\n",
    "combined_plot <- p_gfap + p_c3 + p_nes +\n",
    "    plot_layout(ncol = 3, guides = \"collect\") & theme(legend.position = \"right\")\n",
    "\n",
    "combined_plot\n"
   ]
  },
  {
   "cell_type": "code",
   "execution_count": 19,
   "id": "afc71b21",
   "metadata": {
    "vscode": {
     "languageId": "r"
    }
   },
   "outputs": [
    {
     "ename": "ERROR",
     "evalue": "\u001b[1m\u001b[33mError\u001b[39m in `geom_segment()`:\u001b[22m\n\u001b[1m\u001b[22m\u001b[33m!\u001b[39m Problem while computing aesthetics.\n\u001b[36mℹ\u001b[39m Error occurred in the 2nd layer.\n\u001b[1mCaused by error:\u001b[22m\n\u001b[33m!\u001b[39m object 'x_numeric' not found\n",
     "output_type": "error",
     "traceback": [
      "\u001b[1m\u001b[33mError\u001b[39m in `geom_segment()`:\u001b[22m\n\u001b[1m\u001b[22m\u001b[33m!\u001b[39m Problem while computing aesthetics.\n\u001b[36mℹ\u001b[39m Error occurred in the 2nd layer.\n\u001b[1mCaused by error:\u001b[22m\n\u001b[33m!\u001b[39m object 'x_numeric' not found\nTraceback:\n",
      "1. print.ggplot(p_gfap)",
      "2. ggplot_build(x)",
      "3. ggplot_build.ggplot(x)",
      "4. by_layer(function(l, d) l$compute_aesthetics(d, plot), layers, \n .     data, \"computing aesthetics\")",
      "5. try_fetch(for (i in seq_along(data)) {\n .     out[[i]] <- f(l = layers[[i]], d = data[[i]])\n . }, error = function(cnd) {\n .     cli::cli_abort(c(\"Problem while {step}.\", i = \"Error occurred in the {ordinal(i)} layer.\"), \n .         call = layers[[i]]$constructor, parent = cnd)\n . })",
      "6. tryCatch(withCallingHandlers(expr, condition = function(cnd) {\n .     {\n .         .__handler_frame__. <- TRUE\n .         .__setup_frame__. <- frame\n .         if (inherits(cnd, \"message\")) {\n .             except <- c(\"warning\", \"error\")\n .         }\n .         else if (inherits(cnd, \"warning\")) {\n .             except <- \"error\"\n .         }\n .         else {\n .             except <- \"\"\n .         }\n .     }\n .     while (!is_null(cnd)) {\n .         if (inherits(cnd, \"error\")) {\n .             out <- handlers[[1L]](cnd)\n .             if (!inherits(out, \"rlang_zap\")) \n .                 throw(out)\n .         }\n .         inherit <- .subset2(.subset2(cnd, \"rlang\"), \"inherit\")\n .         if (is_false(inherit)) {\n .             return()\n .         }\n .         cnd <- .subset2(cnd, \"parent\")\n .     }\n . }), stackOverflowError = handlers[[1L]])",
      "7. tryCatchList(expr, classes, parentenv, handlers)",
      "8. tryCatchOne(expr, names, parentenv, handlers[[1L]])",
      "9. doTryCatch(return(expr), name, parentenv, handler)",
      "10. withCallingHandlers(expr, condition = function(cnd) {\n  .     {\n  .         .__handler_frame__. <- TRUE\n  .         .__setup_frame__. <- frame\n  .         if (inherits(cnd, \"message\")) {\n  .             except <- c(\"warning\", \"error\")\n  .         }\n  .         else if (inherits(cnd, \"warning\")) {\n  .             except <- \"error\"\n  .         }\n  .         else {\n  .             except <- \"\"\n  .         }\n  .     }\n  .     while (!is_null(cnd)) {\n  .         if (inherits(cnd, \"error\")) {\n  .             out <- handlers[[1L]](cnd)\n  .             if (!inherits(out, \"rlang_zap\")) \n  .                 throw(out)\n  .         }\n  .         inherit <- .subset2(.subset2(cnd, \"rlang\"), \"inherit\")\n  .         if (is_false(inherit)) {\n  .             return()\n  .         }\n  .         cnd <- .subset2(cnd, \"parent\")\n  .     }\n  . })",
      "11. f(l = layers[[i]], d = data[[i]])",
      "12. l$compute_aesthetics(d, plot)",
      "13. compute_aesthetics(..., self = self)",
      "14. lapply(aesthetics, eval_tidy, data = data, env = env)",
      "15. FUN(X[[i]], ...)",
      "16. .handleSimpleError(function (cnd) \n  . {\n  .     {\n  .         .__handler_frame__. <- TRUE\n  .         .__setup_frame__. <- frame\n  .         if (inherits(cnd, \"message\")) {\n  .             except <- c(\"warning\", \"error\")\n  .         }\n  .         else if (inherits(cnd, \"warning\")) {\n  .             except <- \"error\"\n  .         }\n  .         else {\n  .             except <- \"\"\n  .         }\n  .     }\n  .     while (!is_null(cnd)) {\n  .         if (inherits(cnd, \"error\")) {\n  .             out <- handlers[[1L]](cnd)\n  .             if (!inherits(out, \"rlang_zap\")) \n  .                 throw(out)\n  .         }\n  .         inherit <- .subset2(.subset2(cnd, \"rlang\"), \"inherit\")\n  .         if (is_false(inherit)) {\n  .             return()\n  .         }\n  .         cnd <- .subset2(cnd, \"parent\")\n  .     }\n  . }, \"object 'x_numeric' not found\", base::quote(NULL))",
      "17. h(simpleError(msg, call))",
      "18. handlers[[1L]](cnd)",
      "19. cli::cli_abort(c(\"Problem while {step}.\", i = \"Error occurred in the {ordinal(i)} layer.\"), \n  .     call = layers[[i]]$constructor, parent = cnd)",
      "20. rlang::abort(message, ..., call = call, use_cli_format = TRUE, \n  .     .frame = .frame)",
      "21. signal_abort(cnd, .file)",
      "22. signalCondition(cnd)"
     ]
    }
   ],
   "source": [
    "# Define GFAP gene ENSG ID\n",
    "gfap_ensg_id <- \"ENSG00000131095\" # replace if needed\n",
    "\n",
    "# Check existence\n",
    "if (!(gfap_ensg_id %in% rownames(dds))) {\n",
    "    stop(\"GFAP gene not found in dataset.\")\n",
    "}\n",
    "\n",
    "# Extract normalized counts\n",
    "gfap_counts <- as.numeric(counts(dds, normalized = TRUE)[gfap_ensg_id, ])\n",
    "sample_data <- as.data.frame(colData(dds))\n",
    "\n",
    "# Combine into one dataframe\n",
    "plot_data <- data.frame(\n",
    "    condition = sample_data$condition,\n",
    "    expression = gfap_counts\n",
    ")\n",
    "\n",
    "# Normalize to WT mean\n",
    "wt_mean <- mean(plot_data$expression[plot_data$condition == \"WT\"])\n",
    "plot_data$relative_expression <- plot_data$expression / wt_mean\n",
    "\n",
    "# Summary stats for bar height and error bars\n",
    "summary_data <- plot_data %>%\n",
    "    group_by(condition) %>%\n",
    "    summarise(\n",
    "        mean_expression = mean(relative_expression),\n",
    "        se_expression = sd(relative_expression) / sqrt(n())\n",
    "    ) %>%\n",
    "    mutate(y_top = mean_expression + se_expression)\n",
    "\n",
    "# Significance test\n",
    "t_test_result <- t.test(relative_expression ~ condition, data = plot_data)\n",
    "p_value <- t_test_result$p.value\n",
    "significance_label <- ifelse(p_value < 0.001, \"***\",\n",
    "    ifelse(p_value < 0.05, \"*\", \"ns\")\n",
    ")\n",
    "\n",
    "# y-position for significance annotation\n",
    "y_sig <- max(summary_data$y_top) + 0.15\n",
    "\n",
    "# Final ggplot for GFAP\n",
    "p_gfap <- ggplot(plot_data, aes(x = condition, y = relative_expression)) +\n",
    "    geom_bar(\n",
    "        data = summary_data,\n",
    "        aes(y = mean_expression, fill = condition),\n",
    "        stat = \"identity\",\n",
    "        width = 0.8,\n",
    "        color = \"grey45\",\n",
    "        linewidth = 0.5\n",
    "    ) +\n",
    "    geom_top_errorbar(summary_data) +\n",
    "    geom_point(\n",
    "        color = \"grey30\",\n",
    "        fill = \"darkgrey\",\n",
    "        shape = 21, size = 4.0, stroke = 0.9\n",
    "    ) +\n",
    "    scale_fill_manual(values = c(\"WT\" = \"black\", \"R270X\" = \"lightgray\")) +\n",
    "    annotate(\"text\", x = 1.5, y = y_sig + 0.08, label = significance_label, size = 9) +\n",
    "    annotate(\"segment\", x = 1, xend = 2, y = y_sig, yend = y_sig, color = \"grey30\", linewidth = 0.6) +\n",
    "    annotate(\"segment\", x = 1, xend = 1, y = y_sig, yend = y_sig - 0.15, color = \"grey30\", linewidth = 0.6) +\n",
    "    annotate(\"segment\", x = 2, xend = 2, y = y_sig, yend = y_sig - 0.09, color = \"grey30\", linewidth = 0.6) +\n",
    "    labs(x = expression(italic(\"Gfap\")), y = \"Relative expression\") +\n",
    "    scale_y_continuous(limits = c(0, 2.8), breaks = seq(0, 2.5, 0.5), expand = c(0, 0)) +\n",
    "    theme_minimal(base_size = 14) +\n",
    "    theme(\n",
    "        axis.line = element_line(color = \"black\", linewidth = 0.4),\n",
    "        panel.grid = element_blank(),\n",
    "        panel.background = element_rect(fill = \"white\", color = NA),\n",
    "        plot.background = element_rect(fill = \"white\", color = NA),\n",
    "        axis.ticks.x = element_blank(),\n",
    "        axis.ticks.y = element_line(color = \"black\", linewidth = 0.4),\n",
    "        axis.ticks.length.y = unit(0.15, \"cm\"),\n",
    "        axis.text.x = element_blank(),\n",
    "        axis.text.y = element_text(size = 13, color = \"black\"),\n",
    "        axis.title.x = element_text(face = \"italic\", size = 16, color = \"black\", margin = margin(t = 5)),\n",
    "        axis.title.y = element_text(size = 16, margin = margin(r = 10), color = \"black\"),\n",
    "        legend.position = \"inside\",\n",
    "        legend.position.inside = c(1.3, 0.9),\n",
    "        legend.title = element_blank(),\n",
    "        legend.text = element_text(size = 13, color = \"black\"),\n",
    "        legend.background = element_rect(fill = \"white\", color = NA),\n",
    "        legend.key = element_rect(fill = \"white\", color = NA),\n",
    "        legend.box = \"vertical\",\n",
    "        legend.box.spacing = unit(0.2, \"cm\"),\n",
    "        legend.key.spacing.y = unit(0.3, \"cm\"),\n",
    "        legend.margin = margin(t = 5, b = 5),\n",
    "        plot.margin = unit(c(0.5, 0.5, 0.5, 0.5), \"cm\"),\n",
    "        aspect.ratio = 4 / 1\n",
    "    ) +\n",
    "    guides(\n",
    "        fill = guide_legend(\n",
    "            override.aes = list(shape = 22, size = 5, color = \"grey30\"),\n",
    "            keywidth = unit(1.1, \"cm\"),\n",
    "            keyheight = unit(0.4, \"cm\"),\n",
    "            byrow = TRUE\n",
    "        )\n",
    "    )\n",
    "\n",
    "# Show it\n",
    "print(p_gfap)\n"
   ]
  },
  {
   "cell_type": "code",
   "execution_count": 16,
   "id": "7143aaa8",
   "metadata": {
    "vscode": {
     "languageId": "r"
    }
   },
   "outputs": [],
   "source": [
    "ggsave(\n",
    "    filename = \"combined_plot_proportional_adjusted.png\",\n",
    "    plot = combined_plot,\n",
    "    width = 18, # A larger total width to accommodate the proportions\n",
    "    height = 7,\n",
    "    units = \"in\",\n",
    "    dpi = 300\n",
    ")\n"
   ]
  }
 ],
 "metadata": {
  "kernelspec": {
   "display_name": "R",
   "language": "R",
   "name": "ir"
  },
  "language_info": {
   "codemirror_mode": "r",
   "file_extension": ".r",
   "mimetype": "text/x-r-source",
   "name": "R",
   "pygments_lexer": "r",
   "version": "4.5.0"
  }
 },
 "nbformat": 4,
 "nbformat_minor": 5
}
