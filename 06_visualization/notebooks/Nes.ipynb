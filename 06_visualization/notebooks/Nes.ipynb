{
 "cells": [
  {
   "cell_type": "code",
   "execution_count": 7,
   "id": "4bd9d58e",
   "metadata": {
    "vscode": {
     "languageId": "r"
    }
   },
   "outputs": [],
   "source": [
    "# 📦 Load required libraries\n",
    "library(ggplot2)\n",
    "library(dplyr)\n",
    "library(tidyr)\n",
    "library(readr)\n",
    "\n",
    "library(ggsignif) # for manual/custom significance annotations\n",
    "library(ggpubr) # optional: auto stats + brackets\n",
    "library(DESeq2)\n",
    "library(biomaRt)\n"
   ]
  },
  {
   "cell_type": "code",
   "execution_count": 8,
   "id": "316136fa",
   "metadata": {
    "vscode": {
     "languageId": "r"
    }
   },
   "outputs": [],
   "source": [
    "dds <- readRDS(\"/home/layanomics/CrispAstro-Seq/04_differential_expression/results/dds.rds\")\n"
   ]
  },
  {
   "cell_type": "code",
   "execution_count": 9,
   "id": "4b187db9",
   "metadata": {
    "vscode": {
     "languageId": "r"
    }
   },
   "outputs": [],
   "source": [
    "library(rlang)\n",
    "\n",
    "geom_top_errorbar <- function(data,\n",
    "                              x = \"x_numeric\",\n",
    "                              y = \"mean_expression\",\n",
    "                              yend = \"y_top\",\n",
    "                              whisker_width = 0.4,\n",
    "                              linewidth = 0.6,\n",
    "                              color = \"black\") {\n",
    "    x_sym <- sym(x)\n",
    "    y_sym <- sym(y)\n",
    "    yend_sym <- sym(yend)\n",
    "\n",
    "    list(\n",
    "        # Vertical line\n",
    "        geom_segment(\n",
    "            data = data,\n",
    "            mapping = aes(x = !!x_sym, xend = !!x_sym, y = !!y_sym, yend = !!yend_sym),\n",
    "            linewidth = linewidth,\n",
    "            color = color,\n",
    "            inherit.aes = FALSE\n",
    "        ),\n",
    "        # Top whisker\n",
    "        geom_segment(\n",
    "            data = data,\n",
    "            mapping = aes(\n",
    "                x = !!x_sym - whisker_width / 2,\n",
    "                xend = !!x_sym + whisker_width / 2,\n",
    "                y = !!yend_sym, yend = !!yend_sym\n",
    "            ),\n",
    "            linewidth = linewidth,\n",
    "            color = color,\n",
    "            inherit.aes = FALSE\n",
    "        )\n",
    "    )\n",
    "}\n"
   ]
  },
  {
   "cell_type": "code",
   "execution_count": 10,
   "id": "4224a2b0",
   "metadata": {
    "vscode": {
     "languageId": "r"
    }
   },
   "outputs": [],
   "source": [
    "# Define gene ID for Nestin\n",
    "nes_ensg_id <- \"ENSG00000132688\"\n",
    "\n",
    "if (!(nes_ensg_id %in% rownames(dds))) {\n",
    "    stop(\"Gene not found.\")\n",
    "}\n",
    "\n",
    "\n",
    "nes_counts <- as.numeric(counts(dds, normalized = TRUE)[nes_ensg_id, ])\n",
    "sample_data <- as.data.frame(colData(dds))\n",
    "\n",
    "# Combine into data frame\n",
    "plot_data <- data.frame(\n",
    "    condition = sample_data$condition,\n",
    "    expression = nes_counts\n",
    ")\n",
    "\n",
    "\n",
    "# Normalize to WT mean\n",
    "wt_mean <- mean(plot_data$expression[plot_data$condition == \"WT\"])\n",
    "plot_data$relative_expression <- plot_data$expression / wt_mean\n",
    "\n",
    "# Compute group means and SEMs\n",
    "summary_data <- plot_data %>%\n",
    "    group_by(condition) %>%\n",
    "    summarise(\n",
    "        mean_expression = mean(relative_expression),\n",
    "        se_expression = sd(relative_expression) / sqrt(n())\n",
    "    ) %>%\n",
    "    mutate(\n",
    "        x_numeric = as.numeric(factor(condition)),\n",
    "        y_top = mean_expression + se_expression\n",
    "    )\n",
    "\n",
    "\n",
    "\n",
    "# Run t-test\n",
    "t_test_result <- t.test(relative_expression ~ condition, data = plot_data)\n",
    "p_value <- t_test_result$p.value\n",
    "significance_label <- ifelse(p_value < 0.001, \"***\",\n",
    "    ifelse(p_value < 0.05, \"*\", \"ns\")\n",
    ")\n"
   ]
  },
  {
   "cell_type": "code",
   "execution_count": 11,
   "id": "63b3d7aa",
   "metadata": {
    "vscode": {
     "languageId": "r"
    }
   },
   "outputs": [
    {
     "data": {
      "image/png": "[encoded data removed]",
      "text/plain": [
       "plot without title"
      ]
     },
     "metadata": {
      "image/png": {
       "height": 420,
       "width": 420
      }
     },
     "output_type": "display_data"
    }
   ],
   "source": [
    "y_sig <- 1.5 # move this OUTSIDE the ggplot\n",
    "\n",
    "p_nes <- ggplot(plot_data, aes(x = condition, y = relative_expression)) +\n",
    "    geom_bar(\n",
    "        data = summary_data,\n",
    "        aes(x = condition, y = mean_expression, fill = condition),\n",
    "        stat = \"identity\",\n",
    "        width = 0.8,\n",
    "        color = \"grey45\",\n",
    "        linewidth = 0.5,\n",
    "    ) +\n",
    "    geom_top_errorbar(summary_data) +\n",
    "    geom_point(\n",
    "        color = \"grey30\", # fixed black outline\n",
    "        fill = \"darkgrey\", # fixed grey fill\n",
    "        shape = 21, size = 4.0, stroke = 0.9\n",
    "    ) +\n",
    "    scale_fill_manual(values = c(\"WT\" = \"black\", \"R270X\" = \"lightgray\")) +\n",
    "\n",
    "    # significance label and lines (inside the ggplot chain)\n",
    "    annotate(\"text\", x = 1.5, y = y_sig + 0.08, label = significance_label, size = 9) +\n",
    "    annotate(\"segment\", x = 1, xend = 2, y = y_sig, yend = y_sig, color = \"grey30\", linewidth = 0.6) +\n",
    "    annotate(\"segment\", x = 1, xend = 1, y = y_sig, yend = y_sig - 0.09, color = \"grey30\", linewidth = 0.6) +\n",
    "    annotate(\"segment\", x = 2, xend = 2, y = y_sig, yend = y_sig - 0.15, color = \"grey30\", linewidth = 0.6) +\n",
    "    labs(x = expression(italic(\"Nes\")), y = \"Relative expression\") +\n",
    "    scale_y_continuous(limits = c(0, 2.0), breaks = seq(0, 2, 0.5), expand = c(0, 0)) +\n",
    "    theme_minimal(base_size = 14) +\n",
    "    theme(\n",
    "        axis.line = element_line(color = \"black\", linewidth = 0.4),\n",
    "        panel.grid = element_blank(),\n",
    "        panel.background = element_rect(fill = \"white\", color = NA),\n",
    "        plot.background = element_rect(fill = \"white\", color = NA),\n",
    "        axis.ticks.x = element_blank(),\n",
    "        axis.ticks.y = element_line(color = \"black\", linewidth = 0.4),\n",
    "        axis.ticks.length.y = unit(0.15, \"cm\"),\n",
    "        axis.text.x = element_blank(),\n",
    "        axis.text.y = element_text(size = 13, color = \"black\"),\n",
    "        axis.title.x = element_text(face = \"italic\", size = 16, color = \"black\", margin = margin(t = 5)),\n",
    "        axis.title.y = element_text(size = 16, margin = margin(r = 10), color = \"black\"),\n",
    "        legend.position = \"inside\",\n",
    "        legend.position.inside = c(1.3, 0.9),\n",
    "        legend.title = element_blank(),\n",
    "        legend.text = element_text(size = 13, color = \"black\"),\n",
    "        legend.background = element_rect(fill = \"white\", color = NA),\n",
    "        legend.key = element_rect(fill = \"white\", color = NA),\n",
    "        legend.box = \"vertical\",\n",
    "        legend.box.spacing = unit(0.2, \"cm\"),\n",
    "        legend.key.spacing.y = unit(0.3, \"cm\"),\n",
    "        legend.margin = margin(t = 5, b = 5),\n",
    "        plot.margin = unit(c(0.5, 0.5, 0.5, 0.5), \"cm\"),\n",
    "        aspect.ratio = 4 / 1\n",
    "    ) +\n",
    "    guides(\n",
    "        fill = guide_legend(\n",
    "            override.aes = list(\n",
    "                shape = 22,\n",
    "                size = 5,\n",
    "                color = \"grey30\"\n",
    "            ),\n",
    "            keywidth = unit(1.1, \"cm\"),\n",
    "            keyheight = unit(0.4, \"cm\"),\n",
    "            byrow = TRUE # Ensures items are arranged in rows, helpful for spacing\n",
    "        )\n",
    "    )\n",
    "\n",
    "# Show the plot\n",
    "print(p_nes)\n"
   ]
  }
 ],
 "metadata": {
  "kernelspec": {
   "display_name": "R",
   "language": "R",
   "name": "ir"
  },
  "language_info": {
   "codemirror_mode": "r",
   "file_extension": ".r",
   "mimetype": "text/x-r-source",
   "name": "R",
   "pygments_lexer": "r",
   "version": "4.5.0"
  }
 },
 "nbformat": 4,
 "nbformat_minor": 5
}
