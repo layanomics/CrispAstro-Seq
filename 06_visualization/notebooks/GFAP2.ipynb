{
 "cells": [
  {
   "cell_type": "code",
   "execution_count": 1,
   "id": "4bd9d58e",
   "metadata": {
    "vscode": {
     "languageId": "r"
    }
   },
   "outputs": [
    {
     "name": "stderr",
     "output_type": "stream",
     "text": [
      "\n",
      "Attaching package: ‘dplyr’\n",
      "\n",
      "\n",
      "The following objects are masked from ‘package:stats’:\n",
      "\n",
      "    filter, lag\n",
      "\n",
      "\n",
      "The following objects are masked from ‘package:base’:\n",
      "\n",
      "    intersect, setdiff, setequal, union\n",
      "\n",
      "\n",
      "Loading required package: S4Vectors\n",
      "\n",
      "Loading required package: stats4\n",
      "\n",
      "Loading required package: BiocGenerics\n",
      "\n",
      "Loading required package: parallel\n",
      "\n",
      "\n",
      "Attaching package: ‘BiocGenerics’\n",
      "\n",
      "\n",
      "The following objects are masked from ‘package:parallel’:\n",
      "\n",
      "    clusterApply, clusterApplyLB, clusterCall, clusterEvalQ,\n",
      "    clusterExport, clusterMap, parApply, parCapply, parLapply,\n",
      "    parLapplyLB, parRapply, parSapply, parSapplyLB\n",
      "\n",
      "\n",
      "The following objects are masked from ‘package:dplyr’:\n",
      "\n",
      "    combine, intersect, setdiff, union\n",
      "\n",
      "\n",
      "The following objects are masked from ‘package:stats’:\n",
      "\n",
      "    IQR, mad, sd, var, xtabs\n",
      "\n",
      "\n",
      "The following objects are masked from ‘package:base’:\n",
      "\n",
      "    anyDuplicated, append, as.data.frame, basename, cbind, colnames,\n",
      "    dirname, do.call, duplicated, eval, evalq, Filter, Find, get, grep,\n",
      "    grepl, intersect, is.unsorted, lapply, Map, mapply, match, mget,\n",
      "    order, paste, pmax, pmax.int, pmin, pmin.int, Position, rank,\n",
      "    rbind, Reduce, rownames, sapply, setdiff, sort, table, tapply,\n",
      "    union, unique, unsplit, which, which.max, which.min\n",
      "\n",
      "\n",
      "\n",
      "Attaching package: ‘S4Vectors’\n",
      "\n",
      "\n",
      "The following objects are masked from ‘package:dplyr’:\n",
      "\n",
      "    first, rename\n",
      "\n",
      "\n",
      "The following object is masked from ‘package:base’:\n",
      "\n",
      "    expand.grid\n",
      "\n",
      "\n",
      "Loading required package: IRanges\n",
      "\n",
      "\n",
      "Attaching package: ‘IRanges’\n",
      "\n",
      "\n",
      "The following objects are masked from ‘package:dplyr’:\n",
      "\n",
      "    collapse, desc, slice\n",
      "\n",
      "\n",
      "Loading required package: GenomicRanges\n",
      "\n",
      "Loading required package: GenomeInfoDb\n",
      "\n",
      "Loading required package: SummarizedExperiment\n",
      "\n",
      "Loading required package: Biobase\n",
      "\n",
      "Welcome to Bioconductor\n",
      "\n",
      "    Vignettes contain introductory material; view with\n",
      "    'browseVignettes()'. To cite Bioconductor, see\n",
      "    'citation(\"Biobase\")', and for packages 'citation(\"pkgname\")'.\n",
      "\n",
      "\n",
      "Loading required package: DelayedArray\n",
      "\n",
      "Loading required package: matrixStats\n",
      "\n",
      "\n",
      "Attaching package: ‘matrixStats’\n",
      "\n",
      "\n",
      "The following objects are masked from ‘package:Biobase’:\n",
      "\n",
      "    anyMissing, rowMedians\n",
      "\n",
      "\n",
      "The following object is masked from ‘package:dplyr’:\n",
      "\n",
      "    count\n",
      "\n",
      "\n",
      "Loading required package: BiocParallel\n",
      "\n",
      "\n",
      "Attaching package: ‘DelayedArray’\n",
      "\n",
      "\n",
      "The following objects are masked from ‘package:matrixStats’:\n",
      "\n",
      "    colMaxs, colMins, colRanges, rowMaxs, rowMins, rowRanges\n",
      "\n",
      "\n",
      "The following objects are masked from ‘package:base’:\n",
      "\n",
      "    aperm, apply, rowsum\n",
      "\n",
      "\n",
      "\n",
      "Attaching package: ‘rlang’\n",
      "\n",
      "\n",
      "The following object is masked from ‘package:Biobase’:\n",
      "\n",
      "    exprs\n",
      "\n",
      "\n"
     ]
    }
   ],
   "source": [
    "library(ggplot2)\n",
    "library(dplyr)\n",
    "library(readr)\n",
    "library(DESeq2)\n",
    "library(rlang)\n",
    "library(tibble)\n"
   ]
  },
  {
   "cell_type": "code",
   "execution_count": 2,
   "id": "316136fa",
   "metadata": {
    "vscode": {
     "languageId": "r"
    }
   },
   "outputs": [],
   "source": [
    "dds <- readRDS(\"/home/layanomics/CrispAstro-Seq/04_differential_expression/results_DESeq2_1.24.0/dds.rds\")\n"
   ]
  },
  {
   "cell_type": "code",
   "execution_count": 3,
   "id": "4b187db9",
   "metadata": {
    "vscode": {
     "languageId": "r"
    }
   },
   "outputs": [],
   "source": [
    "# 🔧 Custom top error bar function (same as NES)\n",
    "geom_top_errorbar <- function(data,\n",
    "                              x = \"x_numeric\",\n",
    "                              y = \"mean_expression\",\n",
    "                              yend = \"y_top\",\n",
    "                              whisker_width = 0.4,\n",
    "                              size = 0.6,\n",
    "                              color = \"black\") {\n",
    "    x_sym <- sym(x)\n",
    "    y_sym <- sym(y)\n",
    "    yend_sym <- sym(yend)\n",
    "\n",
    "    list(\n",
    "        geom_segment(\n",
    "            data = data,\n",
    "            mapping = aes(x = !!x_sym, xend = !!x_sym, y = !!y_sym, yend = !!yend_sym),\n",
    "            size = size, color = color, inherit.aes = FALSE\n",
    "        ),\n",
    "        geom_segment(\n",
    "            data = data,\n",
    "            mapping = aes(\n",
    "                x = !!x_sym - whisker_width / 2,\n",
    "                xend = !!x_sym + whisker_width / 2,\n",
    "                y = !!yend_sym, yend = !!yend_sym\n",
    "            ),\n",
    "            size = size, color = color, inherit.aes = FALSE\n",
    "        )\n",
    "    )\n",
    "}\n"
   ]
  },
  {
   "cell_type": "code",
   "execution_count": 4,
   "id": "1c20c95c",
   "metadata": {
    "vscode": {
     "languageId": "r"
    }
   },
   "outputs": [],
   "source": [
    "# 🧬 Define gene ID for Gfap\n",
    "Gfap_ensg_id <- \"ENSG00000131095\"\n",
    "if (!(Gfap_ensg_id %in% rownames(dds))) {\n",
    "    stop(\"Gfap gene not found.\")\n",
    "}\n",
    "\n",
    "# 📊 Extract normalized counts\n",
    "Gfap_counts <- as.numeric(counts(dds, normalized = TRUE)[Gfap_ensg_id, ])\n",
    "sample_data <- as.data.frame(colData(dds))\n",
    "\n",
    "# 📈 Combine for plotting\n",
    "plot_data <- data.frame(\n",
    "    condition = sample_data$condition,\n",
    "    expression = Gfap_counts\n",
    ")\n",
    "\n",
    "# 📏 Normalize to WT\n",
    "wt_mean <- mean(plot_data$expression[plot_data$condition == \"WT\"])\n",
    "plot_data$relative_expression <- plot_data$expression / wt_mean\n",
    "\n",
    "# 📊 Summary stats\n",
    "summary_data <- plot_data %>%\n",
    "    group_by(condition) %>%\n",
    "    summarise(\n",
    "        mean_expression = mean(relative_expression),\n",
    "        se_expression = sd(relative_expression) / sqrt(n())\n",
    "    ) %>%\n",
    "    mutate(\n",
    "        x_numeric = as.numeric(factor(condition)),\n",
    "        y_top = mean_expression + se_expression\n",
    "    )\n",
    "\n",
    "# 🧪 T-test and significance label\n",
    "t_test_result <- t.test(relative_expression ~ condition, data = plot_data)\n",
    "p_value <- t_test_result$p.value\n",
    "significance_label <- ifelse(p_value < 0.001, \"***\",\n",
    "    ifelse(p_value < 0.05, \"*\", \"ns\")\n",
    ")\n"
   ]
  },
  {
   "cell_type": "code",
   "execution_count": 5,
   "id": "ebd8f0c5",
   "metadata": {
    "vscode": {
     "languageId": "r"
    }
   },
   "outputs": [
    {
     "data": {
      "image/png": "[encoded data removed]",
      "text/plain": [
       "plot without title"
      ]
     },
     "metadata": {
      "image/png": {
       "height": 420,
       "width": 420
      }
     },
     "output_type": "display_data"
    }
   ],
   "source": [
    "# 📍 Significance line position\n",
    "y_sig <- max(summary_data$y_top) + 0.15\n",
    "\n",
    "# 📊 Plot Gfap\n",
    "p_Gfap <- ggplot(plot_data, aes(x = condition, y = relative_expression)) +\n",
    "    geom_bar(\n",
    "        data = summary_data,\n",
    "        aes(y = mean_expression, fill = condition),\n",
    "        stat = \"identity\",\n",
    "        width = 0.8,\n",
    "        color = \"grey45\",\n",
    "        size = 0.5\n",
    "    ) +\n",
    "    geom_top_errorbar(summary_data) +\n",
    "    geom_point(\n",
    "        color = \"grey30\",\n",
    "        fill = \"darkgrey\",\n",
    "        shape = 21, size = 4.0, stroke = 0.9\n",
    "    ) +\n",
    "    scale_fill_manual(values = c(\"WT\" = \"black\", \"R270X\" = \"lightgray\")) +\n",
    "    annotate(\"text\", x = 1.5, y = y_sig + 0.06, label = significance_label, size = 9) +\n",
    "    annotate(\"segment\",\n",
    "        x = 1, xend = 2, y = y_sig, yend = y_sig,\n",
    "        color = \"grey30\", size = 0.6\n",
    "    ) +\n",
    "    annotate(\"segment\",\n",
    "        x = 1, xend = 1, y = y_sig, yend = y_sig - 0.1,\n",
    "        color = \"grey30\", size = 0.6\n",
    "    ) +\n",
    "    annotate(\"segment\",\n",
    "        x = 2, xend = 2, y = y_sig, yend = y_sig - 0.01,\n",
    "        color = \"grey30\", size = 0.6\n",
    "    ) +\n",
    "    labs(x = expression(italic(\"Gfap\")), y = \"Relative expression\") +\n",
    "    scale_y_continuous(\n",
    "        limits = c(0, max(plot_data$relative_expression) + 0.2),\n",
    "        breaks = seq(0, max(plot_data$relative_expression) + 0.2, 0.5),\n",
    "        expand = c(0, 0)\n",
    "    ) +\n",
    "    theme_minimal(base_size = 14) +\n",
    "    theme(\n",
    "        axis.line = element_line(color = \"black\", size = 0.4),\n",
    "        panel.grid = element_blank(),\n",
    "        panel.background = element_rect(fill = \"white\", color = NA),\n",
    "        plot.background = element_rect(fill = \"white\", color = NA),\n",
    "        axis.ticks.x = element_blank(),\n",
    "        axis.ticks.y = element_line(color = \"black\", size = 0.4), axis.ticks.length.y = unit(0.15, \"cm\"),\n",
    "        axis.text.x = element_blank(),\n",
    "        axis.text.y = element_text(size = 13, color = \"black\"),\n",
    "        axis.title.x = element_text(face = \"italic\", size = 16, color = \"black\", margin = margin(t = 5)),\n",
    "        axis.title.y = element_text(size = 16, margin = margin(r = 10), color = \"black\"),\n",
    "        legend.position = \"inside\",\n",
    "        legend.title = element_blank(),\n",
    "        legend.text = element_text(size = 13, color = \"black\"),\n",
    "        legend.background = element_rect(fill = \"white\", color = NA),\n",
    "        legend.key = element_rect(fill = \"white\", color = NA),\n",
    "        legend.box = \"vertical\",\n",
    "        legend.box.spacing = unit(0.2, \"cm\"),\n",
    "        legend.margin = margin(t = 5, b = 5),\n",
    "        plot.margin = unit(c(0.5, 0.5, 0.5, 0.5), \"cm\"),\n",
    "        aspect.ratio = 4 / 1\n",
    "    ) +\n",
    "    guides(fill = guide_legend(\n",
    "        override.aes = list(shape = 22, size = 5, color = \"grey30\"),\n",
    "        keywidth = unit(1.1, \"cm\"),\n",
    "        keyheight = unit(0.4, \"cm\"),\n",
    "        byrow = TRUE\n",
    "    ))\n",
    "\n",
    "# 🔍 Display\n",
    "print(p_Gfap)\n"
   ]
  },
  {
   "cell_type": "code",
   "execution_count": 16,
   "id": "f2f5d197",
   "metadata": {
    "vscode": {
     "languageId": "r"
    }
   },
   "outputs": [
    {
     "data": {
      "image/png": "[encoded data removed]",
      "text/plain": [
       "plot without title"
      ]
     },
     "metadata": {
      "image/png": {
       "height": 420,
       "width": 420
      }
     },
     "output_type": "display_data"
    }
   ],
   "source": [
    "# 📍 Significance line position\n",
    "y_sig <- max(plot_data$relative_expression) + 0.1\n",
    "\n",
    "# 📊 Plot Gfap\n",
    "p_Gfap <- ggplot(plot_data, aes(x = condition, y = relative_expression)) +\n",
    "    geom_bar(\n",
    "        data = summary_data,\n",
    "        aes(y = mean_expression, fill = condition),\n",
    "        stat = \"identity\",\n",
    "        width = 0.8,\n",
    "        color = \"grey45\",\n",
    "        size = 0.5\n",
    "    ) +\n",
    "    geom_top_errorbar(summary_data) +\n",
    "    geom_point(\n",
    "        color = \"grey30\",\n",
    "        fill = \"darkgrey\",\n",
    "        shape = 21, size = 4.0, stroke = 0.9\n",
    "    ) +\n",
    "    scale_fill_manual(values = c(\"WT\" = \"black\", \"R270X\" = \"lightgray\")) +\n",
    "    annotate(\"text\", x = 1.5, y = y_sig + 0.06, label = significance_label, size = 9) +\n",
    "    annotate(\"segment\",\n",
    "        x = 1, xend = 2, y = y_sig, yend = y_sig,\n",
    "        color = \"grey30\", size = 0.6\n",
    "    ) +\n",
    "    annotate(\"segment\",\n",
    "        x = 1, xend = 1, y = y_sig, yend = y_sig - 0.1,\n",
    "        color = \"grey30\", size = 0.6\n",
    "    ) +\n",
    "    annotate(\"segment\",\n",
    "        x = 2, xend = 2, y = y_sig, yend = y_sig - 0.01,\n",
    "        color = \"grey30\", size = 0.6\n",
    "    ) +\n",
    "    labs(x = expression(italic(\"Gfap\")), y = \"Relative expression\") +\n",
    "    scale_y_continuous(\n",
    "        limits = c(0, max(plot_data$relative_expression) + 0.2),\n",
    "        breaks = seq(0, max(plot_data$relative_expression) + 0.2, 0.5),\n",
    "        expand = c(0, 0)\n",
    "    ) +\n",
    "    theme_minimal(base_size = 14) +\n",
    "    theme(\n",
    "        axis.line = element_line(color = \"black\", size = 0.4),\n",
    "        panel.grid = element_blank(),\n",
    "        panel.background = element_rect(fill = \"white\", color = NA),\n",
    "        plot.background = element_rect(fill = \"white\", color = NA),\n",
    "        axis.ticks.x = element_blank(),\n",
    "        axis.ticks.y = element_line(color = \"black\", size = 0.4), axis.ticks.length.y = unit(0.15, \"cm\"),\n",
    "        axis.text.x = element_blank(),\n",
    "        axis.text.y = element_text(size = 13, color = \"black\"),\n",
    "        axis.title.x = element_text(face = \"italic\", size = 16, color = \"black\", margin = margin(t = 5)),\n",
    "        axis.title.y = element_text(size = 16, margin = margin(r = 10), color = \"black\"),\n",
    "        legend.position = \"inside\",\n",
    "        legend.title = element_blank(),\n",
    "        legend.text = element_text(size = 13, color = \"black\"),\n",
    "        legend.background = element_rect(fill = \"white\", color = NA),\n",
    "        legend.key = element_rect(fill = \"white\", color = NA),\n",
    "        legend.box = \"vertical\",\n",
    "        legend.box.spacing = unit(0.2, \"cm\"),\n",
    "        legend.margin = margin(t = 5, b = 5),\n",
    "        plot.margin = unit(c(0.5, 0.5, 0.5, 0.5), \"cm\"),\n",
    "        aspect.ratio = 4 / 1\n",
    "    ) +\n",
    "    guides(fill = guide_legend(\n",
    "        override.aes = list(shape = 22, size = 5, color = \"grey30\"),\n",
    "        keywidth = unit(1.1, \"cm\"),\n",
    "        keyheight = unit(0.4, \"cm\"),\n",
    "        byrow = TRUE\n",
    "    ))\n",
    "\n",
    "# 🔍 Display\n",
    "print(p_Gfap)\n"
   ]
  },
  {
   "cell_type": "code",
   "execution_count": null,
   "id": "fec2b968",
   "metadata": {
    "vscode": {
     "languageId": "r"
    }
   },
   "outputs": [],
   "source": [
    "y_sig <- max(summary_data$y_top) + 0.15\n"
   ]
  },
  {
   "cell_type": "code",
   "execution_count": null,
   "id": "5b3aa9d5",
   "metadata": {
    "vscode": {
     "languageId": "r"
    }
   },
   "outputs": [
    {
     "data": {
      "text/html": [
       "<table class=\"dataframe\">\n",
       "<caption>A data.frame: 6 × 3</caption>\n",
       "<thead>\n",
       "\t<tr><th scope=col>condition</th><th scope=col>expression</th><th scope=col>relative_expression</th></tr>\n",
       "\t<tr><th scope=col>&lt;fct&gt;</th><th scope=col>&lt;dbl&gt;</th><th scope=col>&lt;dbl&gt;</th></tr>\n",
       "</thead>\n",
       "<tbody>\n",
       "\t<tr><td>WT   </td><td> 502.1221</td><td>1.0983872</td></tr>\n",
       "\t<tr><td>R270X</td><td> 138.3593</td><td>0.3026596</td></tr>\n",
       "\t<tr><td>WT   </td><td> 611.9538</td><td>1.3386430</td></tr>\n",
       "\t<tr><td>R270X</td><td>1045.5478</td><td>2.2871256</td></tr>\n",
       "\t<tr><td>WT   </td><td> 257.3588</td><td>0.5629698</td></tr>\n",
       "\t<tr><td>R270X</td><td> 301.5860</td><td>0.6597163</td></tr>\n",
       "</tbody>\n",
       "</table>\n"
      ],
      "text/latex": [
       "A data.frame: 6 × 3\n",
       "\\begin{tabular}{lll}\n",
       " condition & expression & relative\\_expression\\\\\n",
       " <fct> & <dbl> & <dbl>\\\\\n",
       "\\hline\n",
       "\t WT    &  502.1221 & 1.0983872\\\\\n",
       "\t R270X &  138.3593 & 0.3026596\\\\\n",
       "\t WT    &  611.9538 & 1.3386430\\\\\n",
       "\t R270X & 1045.5478 & 2.2871256\\\\\n",
       "\t WT    &  257.3588 & 0.5629698\\\\\n",
       "\t R270X &  301.5860 & 0.6597163\\\\\n",
       "\\end{tabular}\n"
      ],
      "text/markdown": [
       "\n",
       "A data.frame: 6 × 3\n",
       "\n",
       "| condition &lt;fct&gt; | expression &lt;dbl&gt; | relative_expression &lt;dbl&gt; |\n",
       "|---|---|---|\n",
       "| WT    |  502.1221 | 1.0983872 |\n",
       "| R270X |  138.3593 | 0.3026596 |\n",
       "| WT    |  611.9538 | 1.3386430 |\n",
       "| R270X | 1045.5478 | 2.2871256 |\n",
       "| WT    |  257.3588 | 0.5629698 |\n",
       "| R270X |  301.5860 | 0.6597163 |\n",
       "\n"
      ],
      "text/plain": [
       "  condition expression relative_expression\n",
       "1 WT         502.1221  1.0983872          \n",
       "2 R270X      138.3593  0.3026596          \n",
       "3 WT         611.9538  1.3386430          \n",
       "4 R270X     1045.5478  2.2871256          \n",
       "5 WT         257.3588  0.5629698          \n",
       "6 R270X      301.5860  0.6597163          "
      ]
     },
     "metadata": {},
     "output_type": "display_data"
    },
    {
     "data": {
      "text/html": [
       "2.28712562691559"
      ],
      "text/latex": [
       "2.28712562691559"
      ],
      "text/markdown": [
       "2.28712562691559"
      ],
      "text/plain": [
       "[1] 2.287126"
      ]
     },
     "metadata": {},
     "output_type": "display_data"
    }
   ],
   "source": [
    "y_sig <- max(plot_data$relative_expression) + 0.15\n",
    "plot_data\n",
    "y_sig\n"
   ]
  }
 ],
 "metadata": {
  "kernelspec": {
   "display_name": "R 3.6.3 (DESeq2 1.24.0)",
   "language": "R",
   "name": "r36_deseq2_124_kernel"
  },
  "language_info": {
   "codemirror_mode": "r",
   "file_extension": ".r",
   "mimetype": "text/x-r-source",
   "name": "R",
   "pygments_lexer": "r",
   "version": "3.6.3"
  }
 },
 "nbformat": 4,
 "nbformat_minor": 5
}
