{
 "cells": [
  {
   "cell_type": "markdown",
   "metadata": {},
   "source": [
    "# 🧬 Create DESeq2-Compatible Metadata from GEO Metadata"
   ]
  },
  {
   "cell_type": "code",
   "execution_count": 9,
   "metadata": {
    "vscode": {
     "languageId": "r"
    }
   },
   "outputs": [],
   "source": [
    "# 📦 Load Required Libraries\n",
    "library(tidyverse)\n"
   ]
  },
  {
   "cell_type": "code",
   "execution_count": 19,
   "metadata": {
    "vscode": {
     "languageId": "r"
    }
   },
   "outputs": [
    {
     "data": {
      "text/html": [
       "<table class=\"dataframe\">\n",
       "<caption>A data.frame: 6 × 27</caption>\n",
       "<thead>\n",
       "\t<tr><th></th><th scope=col>Run</th><th scope=col>Assay.Type</th><th scope=col>AvgSpotLen</th><th scope=col>Bases</th><th scope=col>BioProject</th><th scope=col>BioSample</th><th scope=col>Bytes</th><th scope=col>Center.Name</th><th scope=col>Consent</th><th scope=col>DATASTORE.filetype</th><th scope=col>⋯</th><th scope=col>LibrarySelection</th><th scope=col>LibrarySource</th><th scope=col>Organism</th><th scope=col>Platform</th><th scope=col>ReleaseDate</th><th scope=col>create_date</th><th scope=col>version</th><th scope=col>Sample.Name</th><th scope=col>source_name</th><th scope=col>SRA.Study</th></tr>\n",
       "\t<tr><th></th><th scope=col>&lt;chr&gt;</th><th scope=col>&lt;chr&gt;</th><th scope=col>&lt;int&gt;</th><th scope=col>&lt;dbl&gt;</th><th scope=col>&lt;chr&gt;</th><th scope=col>&lt;chr&gt;</th><th scope=col>&lt;dbl&gt;</th><th scope=col>&lt;chr&gt;</th><th scope=col>&lt;chr&gt;</th><th scope=col>&lt;chr&gt;</th><th scope=col>⋯</th><th scope=col>&lt;chr&gt;</th><th scope=col>&lt;chr&gt;</th><th scope=col>&lt;chr&gt;</th><th scope=col>&lt;chr&gt;</th><th scope=col>&lt;chr&gt;</th><th scope=col>&lt;chr&gt;</th><th scope=col>&lt;int&gt;</th><th scope=col>&lt;chr&gt;</th><th scope=col>&lt;chr&gt;</th><th scope=col>&lt;chr&gt;</th></tr>\n",
       "</thead>\n",
       "<tbody>\n",
       "\t<tr><th scope=row>1</th><td>SRR16497780</td><td>RNA-Seq</td><td>302</td><td>18470969300</td><td>PRJNA772970</td><td>SAMN22425958</td><td>5906521818</td><td>GEO</td><td>public</td><td>fastq,run.zq,sra</td><td>⋯</td><td>cDNA</td><td>TRANSCRIPTOMIC</td><td>Homo sapiens</td><td>ILLUMINA</td><td>2024-02-17T00:00:00Z</td><td>2021-10-20T15:26:00Z</td><td>1</td><td>GSM5622087</td><td>astrocytes</td><td>SRP342278</td></tr>\n",
       "\t<tr><th scope=row>2</th><td>SRR16497781</td><td>RNA-Seq</td><td>302</td><td>13351854276</td><td>PRJNA772970</td><td>SAMN22425959</td><td>4247061518</td><td>GEO</td><td>public</td><td>fastq,run.zq,sra</td><td>⋯</td><td>cDNA</td><td>TRANSCRIPTOMIC</td><td>Homo sapiens</td><td>ILLUMINA</td><td>2024-02-17T00:00:00Z</td><td>2021-10-20T13:15:00Z</td><td>1</td><td>GSM5622088</td><td>astrocytes</td><td>SRP342278</td></tr>\n",
       "\t<tr><th scope=row>3</th><td>SRR16497782</td><td>RNA-Seq</td><td>302</td><td>17271765050</td><td>PRJNA772970</td><td>SAMN22425960</td><td>5466908705</td><td>GEO</td><td>public</td><td>fastq,run.zq,sra</td><td>⋯</td><td>cDNA</td><td>TRANSCRIPTOMIC</td><td>Homo sapiens</td><td>ILLUMINA</td><td>2024-02-17T00:00:00Z</td><td>2021-10-20T15:38:00Z</td><td>1</td><td>GSM5622089</td><td>astrocytes</td><td>SRP342278</td></tr>\n",
       "\t<tr><th scope=row>4</th><td>SRR16497783</td><td>RNA-Seq</td><td>302</td><td>15498488698</td><td>PRJNA772970</td><td>SAMN22425961</td><td>4904004723</td><td>GEO</td><td>public</td><td>fastq,run.zq,sra</td><td>⋯</td><td>cDNA</td><td>TRANSCRIPTOMIC</td><td>Homo sapiens</td><td>ILLUMINA</td><td>2024-02-17T00:00:00Z</td><td>2021-10-20T15:09:00Z</td><td>1</td><td>GSM5622090</td><td>astrocytes</td><td>SRP342278</td></tr>\n",
       "\t<tr><th scope=row>5</th><td>SRR16497784</td><td>RNA-Seq</td><td>302</td><td>13388196956</td><td>PRJNA772970</td><td>SAMN22425962</td><td>4226965833</td><td>GEO</td><td>public</td><td>fastq,run.zq,sra</td><td>⋯</td><td>cDNA</td><td>TRANSCRIPTOMIC</td><td>Homo sapiens</td><td>ILLUMINA</td><td>2024-02-17T00:00:00Z</td><td>2021-10-20T14:49:00Z</td><td>1</td><td>GSM5622091</td><td>astrocytes</td><td>SRP342278</td></tr>\n",
       "\t<tr><th scope=row>6</th><td>SRR16497785</td><td>RNA-Seq</td><td>302</td><td>12376369512</td><td>PRJNA772970</td><td>SAMN22425963</td><td>3908519949</td><td>GEO</td><td>public</td><td>fastq,run.zq,sra</td><td>⋯</td><td>cDNA</td><td>TRANSCRIPTOMIC</td><td>Homo sapiens</td><td>ILLUMINA</td><td>2024-02-17T00:00:00Z</td><td>2021-10-20T14:10:00Z</td><td>1</td><td>GSM5622092</td><td>astrocytes</td><td>SRP342278</td></tr>\n",
       "</tbody>\n",
       "</table>\n"
      ],
      "text/latex": [
       "A data.frame: 6 × 27\n",
       "\\begin{tabular}{r|lllllllllllllllllllll}\n",
       "  & Run & Assay.Type & AvgSpotLen & Bases & BioProject & BioSample & Bytes & Center.Name & Consent & DATASTORE.filetype & ⋯ & LibrarySelection & LibrarySource & Organism & Platform & ReleaseDate & create\\_date & version & Sample.Name & source\\_name & SRA.Study\\\\\n",
       "  & <chr> & <chr> & <int> & <dbl> & <chr> & <chr> & <dbl> & <chr> & <chr> & <chr> & ⋯ & <chr> & <chr> & <chr> & <chr> & <chr> & <chr> & <int> & <chr> & <chr> & <chr>\\\\\n",
       "\\hline\n",
       "\t1 & SRR16497780 & RNA-Seq & 302 & 18470969300 & PRJNA772970 & SAMN22425958 & 5906521818 & GEO & public & fastq,run.zq,sra & ⋯ & cDNA & TRANSCRIPTOMIC & Homo sapiens & ILLUMINA & 2024-02-17T00:00:00Z & 2021-10-20T15:26:00Z & 1 & GSM5622087 & astrocytes & SRP342278\\\\\n",
       "\t2 & SRR16497781 & RNA-Seq & 302 & 13351854276 & PRJNA772970 & SAMN22425959 & 4247061518 & GEO & public & fastq,run.zq,sra & ⋯ & cDNA & TRANSCRIPTOMIC & Homo sapiens & ILLUMINA & 2024-02-17T00:00:00Z & 2021-10-20T13:15:00Z & 1 & GSM5622088 & astrocytes & SRP342278\\\\\n",
       "\t3 & SRR16497782 & RNA-Seq & 302 & 17271765050 & PRJNA772970 & SAMN22425960 & 5466908705 & GEO & public & fastq,run.zq,sra & ⋯ & cDNA & TRANSCRIPTOMIC & Homo sapiens & ILLUMINA & 2024-02-17T00:00:00Z & 2021-10-20T15:38:00Z & 1 & GSM5622089 & astrocytes & SRP342278\\\\\n",
       "\t4 & SRR16497783 & RNA-Seq & 302 & 15498488698 & PRJNA772970 & SAMN22425961 & 4904004723 & GEO & public & fastq,run.zq,sra & ⋯ & cDNA & TRANSCRIPTOMIC & Homo sapiens & ILLUMINA & 2024-02-17T00:00:00Z & 2021-10-20T15:09:00Z & 1 & GSM5622090 & astrocytes & SRP342278\\\\\n",
       "\t5 & SRR16497784 & RNA-Seq & 302 & 13388196956 & PRJNA772970 & SAMN22425962 & 4226965833 & GEO & public & fastq,run.zq,sra & ⋯ & cDNA & TRANSCRIPTOMIC & Homo sapiens & ILLUMINA & 2024-02-17T00:00:00Z & 2021-10-20T14:49:00Z & 1 & GSM5622091 & astrocytes & SRP342278\\\\\n",
       "\t6 & SRR16497785 & RNA-Seq & 302 & 12376369512 & PRJNA772970 & SAMN22425963 & 3908519949 & GEO & public & fastq,run.zq,sra & ⋯ & cDNA & TRANSCRIPTOMIC & Homo sapiens & ILLUMINA & 2024-02-17T00:00:00Z & 2021-10-20T14:10:00Z & 1 & GSM5622092 & astrocytes & SRP342278\\\\\n",
       "\\end{tabular}\n"
      ],
      "text/markdown": [
       "\n",
       "A data.frame: 6 × 27\n",
       "\n",
       "| <!--/--> | Run &lt;chr&gt; | Assay.Type &lt;chr&gt; | AvgSpotLen &lt;int&gt; | Bases &lt;dbl&gt; | BioProject &lt;chr&gt; | BioSample &lt;chr&gt; | Bytes &lt;dbl&gt; | Center.Name &lt;chr&gt; | Consent &lt;chr&gt; | DATASTORE.filetype &lt;chr&gt; | ⋯ ⋯ | LibrarySelection &lt;chr&gt; | LibrarySource &lt;chr&gt; | Organism &lt;chr&gt; | Platform &lt;chr&gt; | ReleaseDate &lt;chr&gt; | create_date &lt;chr&gt; | version &lt;int&gt; | Sample.Name &lt;chr&gt; | source_name &lt;chr&gt; | SRA.Study &lt;chr&gt; |\n",
       "|---|---|---|---|---|---|---|---|---|---|---|---|---|---|---|---|---|---|---|---|---|---|\n",
       "| 1 | SRR16497780 | RNA-Seq | 302 | 18470969300 | PRJNA772970 | SAMN22425958 | 5906521818 | GEO | public | fastq,run.zq,sra | ⋯ | cDNA | TRANSCRIPTOMIC | Homo sapiens | ILLUMINA | 2024-02-17T00:00:00Z | 2021-10-20T15:26:00Z | 1 | GSM5622087 | astrocytes | SRP342278 |\n",
       "| 2 | SRR16497781 | RNA-Seq | 302 | 13351854276 | PRJNA772970 | SAMN22425959 | 4247061518 | GEO | public | fastq,run.zq,sra | ⋯ | cDNA | TRANSCRIPTOMIC | Homo sapiens | ILLUMINA | 2024-02-17T00:00:00Z | 2021-10-20T13:15:00Z | 1 | GSM5622088 | astrocytes | SRP342278 |\n",
       "| 3 | SRR16497782 | RNA-Seq | 302 | 17271765050 | PRJNA772970 | SAMN22425960 | 5466908705 | GEO | public | fastq,run.zq,sra | ⋯ | cDNA | TRANSCRIPTOMIC | Homo sapiens | ILLUMINA | 2024-02-17T00:00:00Z | 2021-10-20T15:38:00Z | 1 | GSM5622089 | astrocytes | SRP342278 |\n",
       "| 4 | SRR16497783 | RNA-Seq | 302 | 15498488698 | PRJNA772970 | SAMN22425961 | 4904004723 | GEO | public | fastq,run.zq,sra | ⋯ | cDNA | TRANSCRIPTOMIC | Homo sapiens | ILLUMINA | 2024-02-17T00:00:00Z | 2021-10-20T15:09:00Z | 1 | GSM5622090 | astrocytes | SRP342278 |\n",
       "| 5 | SRR16497784 | RNA-Seq | 302 | 13388196956 | PRJNA772970 | SAMN22425962 | 4226965833 | GEO | public | fastq,run.zq,sra | ⋯ | cDNA | TRANSCRIPTOMIC | Homo sapiens | ILLUMINA | 2024-02-17T00:00:00Z | 2021-10-20T14:49:00Z | 1 | GSM5622091 | astrocytes | SRP342278 |\n",
       "| 6 | SRR16497785 | RNA-Seq | 302 | 12376369512 | PRJNA772970 | SAMN22425963 | 3908519949 | GEO | public | fastq,run.zq,sra | ⋯ | cDNA | TRANSCRIPTOMIC | Homo sapiens | ILLUMINA | 2024-02-17T00:00:00Z | 2021-10-20T14:10:00Z | 1 | GSM5622092 | astrocytes | SRP342278 |\n",
       "\n"
      ],
      "text/plain": [
       "  Run         Assay.Type AvgSpotLen Bases       BioProject  BioSample   \n",
       "1 SRR16497780 RNA-Seq    302        18470969300 PRJNA772970 SAMN22425958\n",
       "2 SRR16497781 RNA-Seq    302        13351854276 PRJNA772970 SAMN22425959\n",
       "3 SRR16497782 RNA-Seq    302        17271765050 PRJNA772970 SAMN22425960\n",
       "4 SRR16497783 RNA-Seq    302        15498488698 PRJNA772970 SAMN22425961\n",
       "5 SRR16497784 RNA-Seq    302        13388196956 PRJNA772970 SAMN22425962\n",
       "6 SRR16497785 RNA-Seq    302        12376369512 PRJNA772970 SAMN22425963\n",
       "  Bytes      Center.Name Consent DATASTORE.filetype ⋯ LibrarySelection\n",
       "1 5906521818 GEO         public  fastq,run.zq,sra   ⋯ cDNA            \n",
       "2 4247061518 GEO         public  fastq,run.zq,sra   ⋯ cDNA            \n",
       "3 5466908705 GEO         public  fastq,run.zq,sra   ⋯ cDNA            \n",
       "4 4904004723 GEO         public  fastq,run.zq,sra   ⋯ cDNA            \n",
       "5 4226965833 GEO         public  fastq,run.zq,sra   ⋯ cDNA            \n",
       "6 3908519949 GEO         public  fastq,run.zq,sra   ⋯ cDNA            \n",
       "  LibrarySource  Organism     Platform ReleaseDate         \n",
       "1 TRANSCRIPTOMIC Homo sapiens ILLUMINA 2024-02-17T00:00:00Z\n",
       "2 TRANSCRIPTOMIC Homo sapiens ILLUMINA 2024-02-17T00:00:00Z\n",
       "3 TRANSCRIPTOMIC Homo sapiens ILLUMINA 2024-02-17T00:00:00Z\n",
       "4 TRANSCRIPTOMIC Homo sapiens ILLUMINA 2024-02-17T00:00:00Z\n",
       "5 TRANSCRIPTOMIC Homo sapiens ILLUMINA 2024-02-17T00:00:00Z\n",
       "6 TRANSCRIPTOMIC Homo sapiens ILLUMINA 2024-02-17T00:00:00Z\n",
       "  create_date          version Sample.Name source_name SRA.Study\n",
       "1 2021-10-20T15:26:00Z 1       GSM5622087  astrocytes  SRP342278\n",
       "2 2021-10-20T13:15:00Z 1       GSM5622088  astrocytes  SRP342278\n",
       "3 2021-10-20T15:38:00Z 1       GSM5622089  astrocytes  SRP342278\n",
       "4 2021-10-20T15:09:00Z 1       GSM5622090  astrocytes  SRP342278\n",
       "5 2021-10-20T14:49:00Z 1       GSM5622091  astrocytes  SRP342278\n",
       "6 2021-10-20T14:10:00Z 1       GSM5622092  astrocytes  SRP342278"
      ]
     },
     "metadata": {},
     "output_type": "display_data"
    }
   ],
   "source": [
    "# Load GEO metadata\n",
    "sra <- read.csv(\"/home/layanomics/CrispAstro-Seq/00_data/SraRunTable.csv\")\n",
    "head(sra)\n"
   ]
  },
  {
   "cell_type": "code",
   "execution_count": 20,
   "metadata": {
    "vscode": {
     "languageId": "r"
    }
   },
   "outputs": [],
   "source": [
    "metadata <- sra %>%\n",
    "    select(sample = Run, condition = genotype)\n"
   ]
  },
  {
   "cell_type": "code",
   "execution_count": 21,
   "metadata": {
    "vscode": {
     "languageId": "r"
    }
   },
   "outputs": [
    {
     "name": "stdout",
     "output_type": "stream",
     "text": [
      "       sample   condition\n",
      "1 SRR16497780   wild-type\n",
      "2 SRR16497781 MECP2-R270X\n",
      "3 SRR16497782   wild-type\n",
      "4 SRR16497783 MECP2-R270X\n",
      "5 SRR16497784   wild-type\n",
      "6 SRR16497785 MECP2-R270X\n"
     ]
    }
   ],
   "source": [
    "# Save for DESeq2\n",
    "write.csv(metadata, \"/home/layanomics/CrispAstro-Seq/00_data/metadata.csv\", row.names = FALSE)\n",
    "\n",
    "# Print\n",
    "print(metadata)\n"
   ]
  }
 ],
 "metadata": {
  "kernelspec": {
   "display_name": "R",
   "language": "R",
   "name": "ir"
  },
  "language_info": {
   "codemirror_mode": "r",
   "file_extension": ".r",
   "mimetype": "text/x-r-source",
   "name": "R",
   "pygments_lexer": "r",
   "version": "4.5.0"
  }
 },
 "nbformat": 4,
 "nbformat_minor": 2
}
